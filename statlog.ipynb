{
  "nbformat": 4,
  "nbformat_minor": 0,
  "metadata": {
    "colab": {
      "provenance": []
    },
    "kernelspec": {
      "display_name": "Python 3",
      "name": "python3"
    }
  },
  "cells": [
    {
      "cell_type": "code",
      "metadata": {
        "colab": {
          "base_uri": "https://localhost:8080/"
        },
        "id": "Ybh5aTsYihz5",
        "outputId": "cdd2e88a-b38b-463b-9082-3a91d04945d5"
      },
      "source": [
        "import numpy as np\n",
        "import pandas as pd\n",
        "import matplotlib.pyplot as plt\n",
        "from google.colab import drive\n",
        "drive.mount('/content/drive')"
      ],
      "execution_count": null,
      "outputs": [
        {
          "output_type": "stream",
          "name": "stdout",
          "text": [
            "Mounted at /content/drive\n"
          ]
        }
      ]
    },
    {
      "cell_type": "code",
      "metadata": {
        "colab": {
          "base_uri": "https://localhost:8080/"
        },
        "id": "kLtzHDdKvLCP",
        "outputId": "43a77f88-7a1e-4033-d69d-2cbf84b60191"
      },
      "source": [
        "df = pd.read_csv(\"/content/drive/MyDrive/satellite/sat.trn\", sep=' ', header=None)\n",
        "print(df.shape)\n",
        "df_test = pd.read_csv(\"/content/drive/MyDrive/satellite/sat.tst\", sep=' ', header=None)\n",
        "print(df_test.shape)"
      ],
      "execution_count": null,
      "outputs": [
        {
          "output_type": "stream",
          "name": "stdout",
          "text": [
            "(4435, 37)\n",
            "(2000, 37)\n"
          ]
        }
      ]
    },
    {
      "cell_type": "markdown",
      "source": [
        "**PreProcessing**\n"
      ],
      "metadata": {
        "id": "Fi4WSr7v76P0"
      }
    },
    {
      "cell_type": "code",
      "source": [
        "missing_values_test = df_test.isnull().sum()\n",
        "print(missing_values_test)\n",
        "missing_values = df_1.isnull().sum()\n",
        "print(missing_values)"
      ],
      "metadata": {
        "colab": {
          "base_uri": "https://localhost:8080/"
        },
        "id": "YnehedHBH2sT",
        "outputId": "187c8ccb-a081-4181-9eaa-a9d82d5bb6df"
      },
      "execution_count": null,
      "outputs": [
        {
          "output_type": "stream",
          "name": "stdout",
          "text": [
            "0     0\n",
            "1     0\n",
            "2     0\n",
            "3     0\n",
            "4     0\n",
            "5     0\n",
            "6     0\n",
            "7     0\n",
            "8     0\n",
            "9     0\n",
            "10    0\n",
            "11    0\n",
            "12    0\n",
            "13    0\n",
            "14    0\n",
            "15    0\n",
            "16    0\n",
            "17    0\n",
            "18    0\n",
            "19    0\n",
            "20    0\n",
            "21    0\n",
            "22    0\n",
            "23    0\n",
            "24    0\n",
            "25    0\n",
            "26    0\n",
            "27    0\n",
            "28    0\n",
            "29    0\n",
            "30    0\n",
            "31    0\n",
            "32    0\n",
            "33    0\n",
            "34    0\n",
            "35    0\n",
            "36    0\n",
            "dtype: int64\n",
            "0     0\n",
            "1     0\n",
            "2     0\n",
            "3     0\n",
            "4     0\n",
            "5     0\n",
            "6     0\n",
            "7     0\n",
            "8     0\n",
            "9     0\n",
            "10    0\n",
            "11    0\n",
            "12    0\n",
            "13    0\n",
            "14    0\n",
            "15    0\n",
            "16    0\n",
            "17    0\n",
            "18    0\n",
            "19    0\n",
            "20    0\n",
            "21    0\n",
            "22    0\n",
            "23    0\n",
            "24    0\n",
            "25    0\n",
            "26    0\n",
            "27    0\n",
            "28    0\n",
            "29    0\n",
            "30    0\n",
            "31    0\n",
            "32    0\n",
            "33    0\n",
            "34    0\n",
            "35    0\n",
            "36    0\n",
            "dtype: int64\n"
          ]
        }
      ]
    },
    {
      "cell_type": "code",
      "source": [
        "import pandas as pd\n",
        "\n",
        "def check_missing_values(df_1):\n",
        "    missing_values = df_1.isnull().sum().sum()\n",
        "    if missing_values > 0:\n",
        "        print(\"Veri kümesi boş değerler içeriyor.\")\n",
        "    else:\n",
        "        print(\"Veri kümesi boş değerler içermiyor.\")\n",
        "\n",
        "check_missing_values(df_1) \n"
      ],
      "metadata": {
        "colab": {
          "base_uri": "https://localhost:8080/"
        },
        "id": "05Te6mMo-dcJ",
        "outputId": "9076d75d-7538-4818-a6e8-e279a35f7d72"
      },
      "execution_count": null,
      "outputs": [
        {
          "output_type": "stream",
          "name": "stdout",
          "text": [
            "Veri kümesi boş değerler içermiyor.\n"
          ]
        }
      ]
    },
    {
      "cell_type": "code",
      "source": [
        "from sklearn.preprocessing import StandardScaler\n",
        "\n",
        "def check_scaling(df_1):\n",
        "    scaler = StandardScaler()\n",
        "    scaled_data = scaler.fit_transform(df_1)\n",
        "    if not pd.DataFrame(scaled_data).equals(df_1):\n",
        "        print(\"Veri kümesi ölçeklendirilmiş.\")\n",
        "    else:\n",
        "        print(\"Veri kümesi ölçeklendirilmemiş.\")\n",
        "\n",
        "check_scaling(df_1) \n"
      ],
      "metadata": {
        "colab": {
          "base_uri": "https://localhost:8080/"
        },
        "id": "DQN691L5-nAE",
        "outputId": "d8da18a9-f8b8-4ac8-f890-08f27203233f"
      },
      "execution_count": null,
      "outputs": [
        {
          "output_type": "stream",
          "name": "stdout",
          "text": [
            "Veri kümesi ölçeklendirilmiş.\n"
          ]
        }
      ]
    },
    {
      "cell_type": "code",
      "source": [
        "import pandas as pd\n",
        "\n",
        "def check_encoding(df_1):\n",
        "    categorical_cols = df_1.select_dtypes(include=['object']).columns\n",
        "    if len(categorical_cols) > 0:\n",
        "        print(\"Veri kümesi kategorik değişkenlerin kodlandığı bir yapıya sahip.\")\n",
        "    else:\n",
        "        print(\"Veri kümesi kategorik değişkenlerin kodlandığı bir yapıya sahip değil.\")\n",
        "\n",
        "check_encoding(df_1)  \n"
      ],
      "metadata": {
        "colab": {
          "base_uri": "https://localhost:8080/"
        },
        "id": "kU9OqiIU-xRU",
        "outputId": "7e4ff1e9-6d12-4f9f-e088-4b981ad0738d"
      },
      "execution_count": null,
      "outputs": [
        {
          "output_type": "stream",
          "name": "stdout",
          "text": [
            "Veri kümesi kategorik değişkenlerin kodlandığı bir yapıya sahip değil.\n"
          ]
        }
      ]
    },
    {
      "cell_type": "code",
      "metadata": {
        "id": "IaPaV3-TxUvT"
      },
      "source": [
        "df.rename(columns={36: 'Class'}, inplace=True)"
      ],
      "execution_count": null,
      "outputs": []
    },
    {
      "cell_type": "code",
      "metadata": {
        "colab": {
          "base_uri": "https://localhost:8080/",
          "height": 236
        },
        "id": "PrqLfUYd_wtc",
        "outputId": "800f0e2f-d8e8-47a7-e995-3e90fedea64e"
      },
      "source": [
        "df.head()"
      ],
      "execution_count": null,
      "outputs": [
        {
          "output_type": "execute_result",
          "data": {
            "text/plain": [
              "    0    1    2   3   4    5    6   7   8    9  ...   27  28   29   30   31  \\\n",
              "0  92  115  120  94  84  102  106  79  84  102  ...  104  88  121  128  100   \n",
              "1  84  102  106  79  84  102  102  83  80  102  ...  100  84  107  113   87   \n",
              "2  84  102  102  83  80  102  102  79  84   94  ...   87  84   99  104   79   \n",
              "3  80  102  102  79  84   94  102  79  80   94  ...   79  84   99  104   79   \n",
              "4  84   94  102  79  80   94   98  76  80  102  ...   79  84  103  104   79   \n",
              "\n",
              "   32   33   34  35  Class  \n",
              "0  84  107  113  87      3  \n",
              "1  84   99  104  79      3  \n",
              "2  84   99  104  79      3  \n",
              "3  84  103  104  79      3  \n",
              "4  79  107  109  87      3  \n",
              "\n",
              "[5 rows x 37 columns]"
            ],
            "text/html": [
              "\n",
              "  <div id=\"df-26754da0-fc03-4067-9188-21918d7811a8\">\n",
              "    <div class=\"colab-df-container\">\n",
              "      <div>\n",
              "<style scoped>\n",
              "    .dataframe tbody tr th:only-of-type {\n",
              "        vertical-align: middle;\n",
              "    }\n",
              "\n",
              "    .dataframe tbody tr th {\n",
              "        vertical-align: top;\n",
              "    }\n",
              "\n",
              "    .dataframe thead th {\n",
              "        text-align: right;\n",
              "    }\n",
              "</style>\n",
              "<table border=\"1\" class=\"dataframe\">\n",
              "  <thead>\n",
              "    <tr style=\"text-align: right;\">\n",
              "      <th></th>\n",
              "      <th>0</th>\n",
              "      <th>1</th>\n",
              "      <th>2</th>\n",
              "      <th>3</th>\n",
              "      <th>4</th>\n",
              "      <th>5</th>\n",
              "      <th>6</th>\n",
              "      <th>7</th>\n",
              "      <th>8</th>\n",
              "      <th>9</th>\n",
              "      <th>...</th>\n",
              "      <th>27</th>\n",
              "      <th>28</th>\n",
              "      <th>29</th>\n",
              "      <th>30</th>\n",
              "      <th>31</th>\n",
              "      <th>32</th>\n",
              "      <th>33</th>\n",
              "      <th>34</th>\n",
              "      <th>35</th>\n",
              "      <th>Class</th>\n",
              "    </tr>\n",
              "  </thead>\n",
              "  <tbody>\n",
              "    <tr>\n",
              "      <th>0</th>\n",
              "      <td>92</td>\n",
              "      <td>115</td>\n",
              "      <td>120</td>\n",
              "      <td>94</td>\n",
              "      <td>84</td>\n",
              "      <td>102</td>\n",
              "      <td>106</td>\n",
              "      <td>79</td>\n",
              "      <td>84</td>\n",
              "      <td>102</td>\n",
              "      <td>...</td>\n",
              "      <td>104</td>\n",
              "      <td>88</td>\n",
              "      <td>121</td>\n",
              "      <td>128</td>\n",
              "      <td>100</td>\n",
              "      <td>84</td>\n",
              "      <td>107</td>\n",
              "      <td>113</td>\n",
              "      <td>87</td>\n",
              "      <td>3</td>\n",
              "    </tr>\n",
              "    <tr>\n",
              "      <th>1</th>\n",
              "      <td>84</td>\n",
              "      <td>102</td>\n",
              "      <td>106</td>\n",
              "      <td>79</td>\n",
              "      <td>84</td>\n",
              "      <td>102</td>\n",
              "      <td>102</td>\n",
              "      <td>83</td>\n",
              "      <td>80</td>\n",
              "      <td>102</td>\n",
              "      <td>...</td>\n",
              "      <td>100</td>\n",
              "      <td>84</td>\n",
              "      <td>107</td>\n",
              "      <td>113</td>\n",
              "      <td>87</td>\n",
              "      <td>84</td>\n",
              "      <td>99</td>\n",
              "      <td>104</td>\n",
              "      <td>79</td>\n",
              "      <td>3</td>\n",
              "    </tr>\n",
              "    <tr>\n",
              "      <th>2</th>\n",
              "      <td>84</td>\n",
              "      <td>102</td>\n",
              "      <td>102</td>\n",
              "      <td>83</td>\n",
              "      <td>80</td>\n",
              "      <td>102</td>\n",
              "      <td>102</td>\n",
              "      <td>79</td>\n",
              "      <td>84</td>\n",
              "      <td>94</td>\n",
              "      <td>...</td>\n",
              "      <td>87</td>\n",
              "      <td>84</td>\n",
              "      <td>99</td>\n",
              "      <td>104</td>\n",
              "      <td>79</td>\n",
              "      <td>84</td>\n",
              "      <td>99</td>\n",
              "      <td>104</td>\n",
              "      <td>79</td>\n",
              "      <td>3</td>\n",
              "    </tr>\n",
              "    <tr>\n",
              "      <th>3</th>\n",
              "      <td>80</td>\n",
              "      <td>102</td>\n",
              "      <td>102</td>\n",
              "      <td>79</td>\n",
              "      <td>84</td>\n",
              "      <td>94</td>\n",
              "      <td>102</td>\n",
              "      <td>79</td>\n",
              "      <td>80</td>\n",
              "      <td>94</td>\n",
              "      <td>...</td>\n",
              "      <td>79</td>\n",
              "      <td>84</td>\n",
              "      <td>99</td>\n",
              "      <td>104</td>\n",
              "      <td>79</td>\n",
              "      <td>84</td>\n",
              "      <td>103</td>\n",
              "      <td>104</td>\n",
              "      <td>79</td>\n",
              "      <td>3</td>\n",
              "    </tr>\n",
              "    <tr>\n",
              "      <th>4</th>\n",
              "      <td>84</td>\n",
              "      <td>94</td>\n",
              "      <td>102</td>\n",
              "      <td>79</td>\n",
              "      <td>80</td>\n",
              "      <td>94</td>\n",
              "      <td>98</td>\n",
              "      <td>76</td>\n",
              "      <td>80</td>\n",
              "      <td>102</td>\n",
              "      <td>...</td>\n",
              "      <td>79</td>\n",
              "      <td>84</td>\n",
              "      <td>103</td>\n",
              "      <td>104</td>\n",
              "      <td>79</td>\n",
              "      <td>79</td>\n",
              "      <td>107</td>\n",
              "      <td>109</td>\n",
              "      <td>87</td>\n",
              "      <td>3</td>\n",
              "    </tr>\n",
              "  </tbody>\n",
              "</table>\n",
              "<p>5 rows × 37 columns</p>\n",
              "</div>\n",
              "      <button class=\"colab-df-convert\" onclick=\"convertToInteractive('df-26754da0-fc03-4067-9188-21918d7811a8')\"\n",
              "              title=\"Convert this dataframe to an interactive table.\"\n",
              "              style=\"display:none;\">\n",
              "        \n",
              "  <svg xmlns=\"http://www.w3.org/2000/svg\" height=\"24px\"viewBox=\"0 0 24 24\"\n",
              "       width=\"24px\">\n",
              "    <path d=\"M0 0h24v24H0V0z\" fill=\"none\"/>\n",
              "    <path d=\"M18.56 5.44l.94 2.06.94-2.06 2.06-.94-2.06-.94-.94-2.06-.94 2.06-2.06.94zm-11 1L8.5 8.5l.94-2.06 2.06-.94-2.06-.94L8.5 2.5l-.94 2.06-2.06.94zm10 10l.94 2.06.94-2.06 2.06-.94-2.06-.94-.94-2.06-.94 2.06-2.06.94z\"/><path d=\"M17.41 7.96l-1.37-1.37c-.4-.4-.92-.59-1.43-.59-.52 0-1.04.2-1.43.59L10.3 9.45l-7.72 7.72c-.78.78-.78 2.05 0 2.83L4 21.41c.39.39.9.59 1.41.59.51 0 1.02-.2 1.41-.59l7.78-7.78 2.81-2.81c.8-.78.8-2.07 0-2.86zM5.41 20L4 18.59l7.72-7.72 1.47 1.35L5.41 20z\"/>\n",
              "  </svg>\n",
              "      </button>\n",
              "      \n",
              "  <style>\n",
              "    .colab-df-container {\n",
              "      display:flex;\n",
              "      flex-wrap:wrap;\n",
              "      gap: 12px;\n",
              "    }\n",
              "\n",
              "    .colab-df-convert {\n",
              "      background-color: #E8F0FE;\n",
              "      border: none;\n",
              "      border-radius: 50%;\n",
              "      cursor: pointer;\n",
              "      display: none;\n",
              "      fill: #1967D2;\n",
              "      height: 32px;\n",
              "      padding: 0 0 0 0;\n",
              "      width: 32px;\n",
              "    }\n",
              "\n",
              "    .colab-df-convert:hover {\n",
              "      background-color: #E2EBFA;\n",
              "      box-shadow: 0px 1px 2px rgba(60, 64, 67, 0.3), 0px 1px 3px 1px rgba(60, 64, 67, 0.15);\n",
              "      fill: #174EA6;\n",
              "    }\n",
              "\n",
              "    [theme=dark] .colab-df-convert {\n",
              "      background-color: #3B4455;\n",
              "      fill: #D2E3FC;\n",
              "    }\n",
              "\n",
              "    [theme=dark] .colab-df-convert:hover {\n",
              "      background-color: #434B5C;\n",
              "      box-shadow: 0px 1px 3px 1px rgba(0, 0, 0, 0.15);\n",
              "      filter: drop-shadow(0px 1px 2px rgba(0, 0, 0, 0.3));\n",
              "      fill: #FFFFFF;\n",
              "    }\n",
              "  </style>\n",
              "\n",
              "      <script>\n",
              "        const buttonEl =\n",
              "          document.querySelector('#df-26754da0-fc03-4067-9188-21918d7811a8 button.colab-df-convert');\n",
              "        buttonEl.style.display =\n",
              "          google.colab.kernel.accessAllowed ? 'block' : 'none';\n",
              "\n",
              "        async function convertToInteractive(key) {\n",
              "          const element = document.querySelector('#df-26754da0-fc03-4067-9188-21918d7811a8');\n",
              "          const dataTable =\n",
              "            await google.colab.kernel.invokeFunction('convertToInteractive',\n",
              "                                                     [key], {});\n",
              "          if (!dataTable) return;\n",
              "\n",
              "          const docLinkHtml = 'Like what you see? Visit the ' +\n",
              "            '<a target=\"_blank\" href=https://colab.research.google.com/notebooks/data_table.ipynb>data table notebook</a>'\n",
              "            + ' to learn more about interactive tables.';\n",
              "          element.innerHTML = '';\n",
              "          dataTable['output_type'] = 'display_data';\n",
              "          await google.colab.output.renderOutput(dataTable, element);\n",
              "          const docLink = document.createElement('div');\n",
              "          docLink.innerHTML = docLinkHtml;\n",
              "          element.appendChild(docLink);\n",
              "        }\n",
              "      </script>\n",
              "    </div>\n",
              "  </div>\n",
              "  "
            ]
          },
          "metadata": {},
          "execution_count": 22
        }
      ]
    },
    {
      "cell_type": "code",
      "metadata": {
        "colab": {
          "base_uri": "https://localhost:8080/"
        },
        "id": "pLcsVWRuCBQg",
        "outputId": "00859b46-6481-48d1-e659-5dda7226d091"
      },
      "source": [
        "df['Class'].value_counts()"
      ],
      "execution_count": null,
      "outputs": [
        {
          "output_type": "execute_result",
          "data": {
            "text/plain": [
              "1    1072\n",
              "7    1038\n",
              "3     961\n",
              "2     479\n",
              "5     470\n",
              "4     415\n",
              "Name: Class, dtype: int64"
            ]
          },
          "metadata": {},
          "execution_count": 23
        }
      ]
    },
    {
      "cell_type": "markdown",
      "metadata": {
        "id": "miaVk1OnE7WR"
      },
      "source": [
        "## Binary Classification\n",
        "\n",
        "One frame of Landsat MSS imagery consists of four digital images of the same scene in different spectral bands. Two of these are in the visible region (corresponding approximately to green and red regions of the visible spectrum) and two are in the (near) infra-red. Each pixel is a 8-bit binary word, with 0 corresponding to black and 255 to white. The spatial resolution of a pixel is about 80m x 80m. Each image contains 2340 x 3380 such pixels.\n",
        "\n",
        "The database is a (tiny) sub-area of a scene, consisting of 82 x 100 pixels. Each line of data corresponds to a 3x3 square neighbourhood of pixels completely contained within the 82x100 sub-area. Each line contains the pixel values in the four spectral bands (converted to ASCII) of each of the 9 pixels in the 3x3 neighbourhood and a number indicating the classification label of the central pixel. The number is a code for the following classes:\n",
        "\n",
        "\n",
        "Remember that Number Class:\n",
        "\n",
        "1 red soil\n",
        "\n",
        "2 cotton crop\n",
        "\n",
        "3 grey soil\n",
        "\n",
        "4 damp grey soil\n",
        "\n",
        "5 soil with vegetation stubble\n",
        "\n",
        "6 mixture class (all types present)\n",
        "\n",
        "7 very damp grey soil"
      ]
    },
    {
      "cell_type": "code",
      "metadata": {
        "colab": {
          "base_uri": "https://localhost:8080/",
          "height": 488
        },
        "id": "NYj6foskm-ls",
        "outputId": "96efa596-2de3-49a5-c3e8-9eee80ffde61"
      },
      "source": [
        "txt = ['top_left1', 'top_left2', 'top_left3', 'top_left4', \n",
        "       'top_center1', 'top_center2', 'top_center3', 'top_center4',\n",
        "       'top_right1', 'top_right2', 'top_right3', 'top_right4',\n",
        "       'middle_left1', 'middle_left2', 'middle_left3', 'middle_left4', \n",
        "       'middle_center1', 'middle_center2', 'middle_center3', 'middle_center4',\n",
        "       'middle_right1', 'middle_right2', 'middle_right3', 'middle_right4',\n",
        "       'bottom_left1', 'bottom_left2', 'bottom_left3', 'bottom_left4', \n",
        "       'bottom_center1', 'bottom_center2', 'bottom_center3', 'bottom_center4',\n",
        "       'bottom_right1', 'bottom_right2', 'bottom_right3', 'bottom_right4', 'Class']\n",
        "df = pd.read_csv(\"/content/drive/MyDrive/satellite/sat.trn\", sep=' ', dtype=str, names=txt)\n",
        "df"
      ],
      "execution_count": null,
      "outputs": [
        {
          "output_type": "execute_result",
          "data": {
            "text/plain": [
              "     top_left1 top_left2 top_left3 top_left4 top_center1 top_center2  \\\n",
              "0           92       115       120        94          84         102   \n",
              "1           84       102       106        79          84         102   \n",
              "2           84       102       102        83          80         102   \n",
              "3           80       102       102        79          84          94   \n",
              "4           84        94       102        79          80          94   \n",
              "...        ...       ...       ...       ...         ...         ...   \n",
              "4430        56        64       108        96          64          71   \n",
              "4431        64        71       108        96          68          75   \n",
              "4432        68        75       108        96          71          87   \n",
              "4433        71        87       108        88          71          91   \n",
              "4434        71        91       100        81          76          95   \n",
              "\n",
              "     top_center3 top_center4 top_right1 top_right2  ... bottom_left4  \\\n",
              "0            106          79         84        102  ...          104   \n",
              "1            102          83         80        102  ...          100   \n",
              "2            102          79         84         94  ...           87   \n",
              "3            102          79         80         94  ...           79   \n",
              "4             98          76         80        102  ...           79   \n",
              "...          ...         ...        ...        ...  ...          ...   \n",
              "4430         108          96         68         75  ...           92   \n",
              "4431         108          96         71         87  ...           96   \n",
              "4432         108          88         71         91  ...           89   \n",
              "4433         100          81         76         95  ...           89   \n",
              "4434         108          88         80         95  ...           85   \n",
              "\n",
              "     bottom_center1 bottom_center2 bottom_center3 bottom_center4  \\\n",
              "0                88            121            128            100   \n",
              "1                84            107            113             87   \n",
              "2                84             99            104             79   \n",
              "3                84             99            104             79   \n",
              "4                84            103            104             79   \n",
              "...             ...            ...            ...            ...   \n",
              "4430             66             83            108             96   \n",
              "4431             66             87            104             89   \n",
              "4432             63             87            104             89   \n",
              "4433             70            100            104             85   \n",
              "4434             70             91            104             85   \n",
              "\n",
              "     bottom_right1 bottom_right2 bottom_right3 bottom_right4 Class  \n",
              "0               84           107           113            87     3  \n",
              "1               84            99           104            79     3  \n",
              "2               84            99           104            79     3  \n",
              "3               84           103           104            79     3  \n",
              "4               79           107           109            87     3  \n",
              "...            ...           ...           ...           ...   ...  \n",
              "4430            66            87           104            89     5  \n",
              "4431            63            87           104            89     5  \n",
              "4432            70           100           104            85     4  \n",
              "4433            70            91           104            85     4  \n",
              "4434            63            91           100            81     4  \n",
              "\n",
              "[4435 rows x 37 columns]"
            ],
            "text/html": [
              "\n",
              "  <div id=\"df-649f1c8d-f50e-4333-b3c2-faf4178ea1a4\">\n",
              "    <div class=\"colab-df-container\">\n",
              "      <div>\n",
              "<style scoped>\n",
              "    .dataframe tbody tr th:only-of-type {\n",
              "        vertical-align: middle;\n",
              "    }\n",
              "\n",
              "    .dataframe tbody tr th {\n",
              "        vertical-align: top;\n",
              "    }\n",
              "\n",
              "    .dataframe thead th {\n",
              "        text-align: right;\n",
              "    }\n",
              "</style>\n",
              "<table border=\"1\" class=\"dataframe\">\n",
              "  <thead>\n",
              "    <tr style=\"text-align: right;\">\n",
              "      <th></th>\n",
              "      <th>top_left1</th>\n",
              "      <th>top_left2</th>\n",
              "      <th>top_left3</th>\n",
              "      <th>top_left4</th>\n",
              "      <th>top_center1</th>\n",
              "      <th>top_center2</th>\n",
              "      <th>top_center3</th>\n",
              "      <th>top_center4</th>\n",
              "      <th>top_right1</th>\n",
              "      <th>top_right2</th>\n",
              "      <th>...</th>\n",
              "      <th>bottom_left4</th>\n",
              "      <th>bottom_center1</th>\n",
              "      <th>bottom_center2</th>\n",
              "      <th>bottom_center3</th>\n",
              "      <th>bottom_center4</th>\n",
              "      <th>bottom_right1</th>\n",
              "      <th>bottom_right2</th>\n",
              "      <th>bottom_right3</th>\n",
              "      <th>bottom_right4</th>\n",
              "      <th>Class</th>\n",
              "    </tr>\n",
              "  </thead>\n",
              "  <tbody>\n",
              "    <tr>\n",
              "      <th>0</th>\n",
              "      <td>92</td>\n",
              "      <td>115</td>\n",
              "      <td>120</td>\n",
              "      <td>94</td>\n",
              "      <td>84</td>\n",
              "      <td>102</td>\n",
              "      <td>106</td>\n",
              "      <td>79</td>\n",
              "      <td>84</td>\n",
              "      <td>102</td>\n",
              "      <td>...</td>\n",
              "      <td>104</td>\n",
              "      <td>88</td>\n",
              "      <td>121</td>\n",
              "      <td>128</td>\n",
              "      <td>100</td>\n",
              "      <td>84</td>\n",
              "      <td>107</td>\n",
              "      <td>113</td>\n",
              "      <td>87</td>\n",
              "      <td>3</td>\n",
              "    </tr>\n",
              "    <tr>\n",
              "      <th>1</th>\n",
              "      <td>84</td>\n",
              "      <td>102</td>\n",
              "      <td>106</td>\n",
              "      <td>79</td>\n",
              "      <td>84</td>\n",
              "      <td>102</td>\n",
              "      <td>102</td>\n",
              "      <td>83</td>\n",
              "      <td>80</td>\n",
              "      <td>102</td>\n",
              "      <td>...</td>\n",
              "      <td>100</td>\n",
              "      <td>84</td>\n",
              "      <td>107</td>\n",
              "      <td>113</td>\n",
              "      <td>87</td>\n",
              "      <td>84</td>\n",
              "      <td>99</td>\n",
              "      <td>104</td>\n",
              "      <td>79</td>\n",
              "      <td>3</td>\n",
              "    </tr>\n",
              "    <tr>\n",
              "      <th>2</th>\n",
              "      <td>84</td>\n",
              "      <td>102</td>\n",
              "      <td>102</td>\n",
              "      <td>83</td>\n",
              "      <td>80</td>\n",
              "      <td>102</td>\n",
              "      <td>102</td>\n",
              "      <td>79</td>\n",
              "      <td>84</td>\n",
              "      <td>94</td>\n",
              "      <td>...</td>\n",
              "      <td>87</td>\n",
              "      <td>84</td>\n",
              "      <td>99</td>\n",
              "      <td>104</td>\n",
              "      <td>79</td>\n",
              "      <td>84</td>\n",
              "      <td>99</td>\n",
              "      <td>104</td>\n",
              "      <td>79</td>\n",
              "      <td>3</td>\n",
              "    </tr>\n",
              "    <tr>\n",
              "      <th>3</th>\n",
              "      <td>80</td>\n",
              "      <td>102</td>\n",
              "      <td>102</td>\n",
              "      <td>79</td>\n",
              "      <td>84</td>\n",
              "      <td>94</td>\n",
              "      <td>102</td>\n",
              "      <td>79</td>\n",
              "      <td>80</td>\n",
              "      <td>94</td>\n",
              "      <td>...</td>\n",
              "      <td>79</td>\n",
              "      <td>84</td>\n",
              "      <td>99</td>\n",
              "      <td>104</td>\n",
              "      <td>79</td>\n",
              "      <td>84</td>\n",
              "      <td>103</td>\n",
              "      <td>104</td>\n",
              "      <td>79</td>\n",
              "      <td>3</td>\n",
              "    </tr>\n",
              "    <tr>\n",
              "      <th>4</th>\n",
              "      <td>84</td>\n",
              "      <td>94</td>\n",
              "      <td>102</td>\n",
              "      <td>79</td>\n",
              "      <td>80</td>\n",
              "      <td>94</td>\n",
              "      <td>98</td>\n",
              "      <td>76</td>\n",
              "      <td>80</td>\n",
              "      <td>102</td>\n",
              "      <td>...</td>\n",
              "      <td>79</td>\n",
              "      <td>84</td>\n",
              "      <td>103</td>\n",
              "      <td>104</td>\n",
              "      <td>79</td>\n",
              "      <td>79</td>\n",
              "      <td>107</td>\n",
              "      <td>109</td>\n",
              "      <td>87</td>\n",
              "      <td>3</td>\n",
              "    </tr>\n",
              "    <tr>\n",
              "      <th>...</th>\n",
              "      <td>...</td>\n",
              "      <td>...</td>\n",
              "      <td>...</td>\n",
              "      <td>...</td>\n",
              "      <td>...</td>\n",
              "      <td>...</td>\n",
              "      <td>...</td>\n",
              "      <td>...</td>\n",
              "      <td>...</td>\n",
              "      <td>...</td>\n",
              "      <td>...</td>\n",
              "      <td>...</td>\n",
              "      <td>...</td>\n",
              "      <td>...</td>\n",
              "      <td>...</td>\n",
              "      <td>...</td>\n",
              "      <td>...</td>\n",
              "      <td>...</td>\n",
              "      <td>...</td>\n",
              "      <td>...</td>\n",
              "      <td>...</td>\n",
              "    </tr>\n",
              "    <tr>\n",
              "      <th>4430</th>\n",
              "      <td>56</td>\n",
              "      <td>64</td>\n",
              "      <td>108</td>\n",
              "      <td>96</td>\n",
              "      <td>64</td>\n",
              "      <td>71</td>\n",
              "      <td>108</td>\n",
              "      <td>96</td>\n",
              "      <td>68</td>\n",
              "      <td>75</td>\n",
              "      <td>...</td>\n",
              "      <td>92</td>\n",
              "      <td>66</td>\n",
              "      <td>83</td>\n",
              "      <td>108</td>\n",
              "      <td>96</td>\n",
              "      <td>66</td>\n",
              "      <td>87</td>\n",
              "      <td>104</td>\n",
              "      <td>89</td>\n",
              "      <td>5</td>\n",
              "    </tr>\n",
              "    <tr>\n",
              "      <th>4431</th>\n",
              "      <td>64</td>\n",
              "      <td>71</td>\n",
              "      <td>108</td>\n",
              "      <td>96</td>\n",
              "      <td>68</td>\n",
              "      <td>75</td>\n",
              "      <td>108</td>\n",
              "      <td>96</td>\n",
              "      <td>71</td>\n",
              "      <td>87</td>\n",
              "      <td>...</td>\n",
              "      <td>96</td>\n",
              "      <td>66</td>\n",
              "      <td>87</td>\n",
              "      <td>104</td>\n",
              "      <td>89</td>\n",
              "      <td>63</td>\n",
              "      <td>87</td>\n",
              "      <td>104</td>\n",
              "      <td>89</td>\n",
              "      <td>5</td>\n",
              "    </tr>\n",
              "    <tr>\n",
              "      <th>4432</th>\n",
              "      <td>68</td>\n",
              "      <td>75</td>\n",
              "      <td>108</td>\n",
              "      <td>96</td>\n",
              "      <td>71</td>\n",
              "      <td>87</td>\n",
              "      <td>108</td>\n",
              "      <td>88</td>\n",
              "      <td>71</td>\n",
              "      <td>91</td>\n",
              "      <td>...</td>\n",
              "      <td>89</td>\n",
              "      <td>63</td>\n",
              "      <td>87</td>\n",
              "      <td>104</td>\n",
              "      <td>89</td>\n",
              "      <td>70</td>\n",
              "      <td>100</td>\n",
              "      <td>104</td>\n",
              "      <td>85</td>\n",
              "      <td>4</td>\n",
              "    </tr>\n",
              "    <tr>\n",
              "      <th>4433</th>\n",
              "      <td>71</td>\n",
              "      <td>87</td>\n",
              "      <td>108</td>\n",
              "      <td>88</td>\n",
              "      <td>71</td>\n",
              "      <td>91</td>\n",
              "      <td>100</td>\n",
              "      <td>81</td>\n",
              "      <td>76</td>\n",
              "      <td>95</td>\n",
              "      <td>...</td>\n",
              "      <td>89</td>\n",
              "      <td>70</td>\n",
              "      <td>100</td>\n",
              "      <td>104</td>\n",
              "      <td>85</td>\n",
              "      <td>70</td>\n",
              "      <td>91</td>\n",
              "      <td>104</td>\n",
              "      <td>85</td>\n",
              "      <td>4</td>\n",
              "    </tr>\n",
              "    <tr>\n",
              "      <th>4434</th>\n",
              "      <td>71</td>\n",
              "      <td>91</td>\n",
              "      <td>100</td>\n",
              "      <td>81</td>\n",
              "      <td>76</td>\n",
              "      <td>95</td>\n",
              "      <td>108</td>\n",
              "      <td>88</td>\n",
              "      <td>80</td>\n",
              "      <td>95</td>\n",
              "      <td>...</td>\n",
              "      <td>85</td>\n",
              "      <td>70</td>\n",
              "      <td>91</td>\n",
              "      <td>104</td>\n",
              "      <td>85</td>\n",
              "      <td>63</td>\n",
              "      <td>91</td>\n",
              "      <td>100</td>\n",
              "      <td>81</td>\n",
              "      <td>4</td>\n",
              "    </tr>\n",
              "  </tbody>\n",
              "</table>\n",
              "<p>4435 rows × 37 columns</p>\n",
              "</div>\n",
              "      <button class=\"colab-df-convert\" onclick=\"convertToInteractive('df-649f1c8d-f50e-4333-b3c2-faf4178ea1a4')\"\n",
              "              title=\"Convert this dataframe to an interactive table.\"\n",
              "              style=\"display:none;\">\n",
              "        \n",
              "  <svg xmlns=\"http://www.w3.org/2000/svg\" height=\"24px\"viewBox=\"0 0 24 24\"\n",
              "       width=\"24px\">\n",
              "    <path d=\"M0 0h24v24H0V0z\" fill=\"none\"/>\n",
              "    <path d=\"M18.56 5.44l.94 2.06.94-2.06 2.06-.94-2.06-.94-.94-2.06-.94 2.06-2.06.94zm-11 1L8.5 8.5l.94-2.06 2.06-.94-2.06-.94L8.5 2.5l-.94 2.06-2.06.94zm10 10l.94 2.06.94-2.06 2.06-.94-2.06-.94-.94-2.06-.94 2.06-2.06.94z\"/><path d=\"M17.41 7.96l-1.37-1.37c-.4-.4-.92-.59-1.43-.59-.52 0-1.04.2-1.43.59L10.3 9.45l-7.72 7.72c-.78.78-.78 2.05 0 2.83L4 21.41c.39.39.9.59 1.41.59.51 0 1.02-.2 1.41-.59l7.78-7.78 2.81-2.81c.8-.78.8-2.07 0-2.86zM5.41 20L4 18.59l7.72-7.72 1.47 1.35L5.41 20z\"/>\n",
              "  </svg>\n",
              "      </button>\n",
              "      \n",
              "  <style>\n",
              "    .colab-df-container {\n",
              "      display:flex;\n",
              "      flex-wrap:wrap;\n",
              "      gap: 12px;\n",
              "    }\n",
              "\n",
              "    .colab-df-convert {\n",
              "      background-color: #E8F0FE;\n",
              "      border: none;\n",
              "      border-radius: 50%;\n",
              "      cursor: pointer;\n",
              "      display: none;\n",
              "      fill: #1967D2;\n",
              "      height: 32px;\n",
              "      padding: 0 0 0 0;\n",
              "      width: 32px;\n",
              "    }\n",
              "\n",
              "    .colab-df-convert:hover {\n",
              "      background-color: #E2EBFA;\n",
              "      box-shadow: 0px 1px 2px rgba(60, 64, 67, 0.3), 0px 1px 3px 1px rgba(60, 64, 67, 0.15);\n",
              "      fill: #174EA6;\n",
              "    }\n",
              "\n",
              "    [theme=dark] .colab-df-convert {\n",
              "      background-color: #3B4455;\n",
              "      fill: #D2E3FC;\n",
              "    }\n",
              "\n",
              "    [theme=dark] .colab-df-convert:hover {\n",
              "      background-color: #434B5C;\n",
              "      box-shadow: 0px 1px 3px 1px rgba(0, 0, 0, 0.15);\n",
              "      filter: drop-shadow(0px 1px 2px rgba(0, 0, 0, 0.3));\n",
              "      fill: #FFFFFF;\n",
              "    }\n",
              "  </style>\n",
              "\n",
              "      <script>\n",
              "        const buttonEl =\n",
              "          document.querySelector('#df-649f1c8d-f50e-4333-b3c2-faf4178ea1a4 button.colab-df-convert');\n",
              "        buttonEl.style.display =\n",
              "          google.colab.kernel.accessAllowed ? 'block' : 'none';\n",
              "\n",
              "        async function convertToInteractive(key) {\n",
              "          const element = document.querySelector('#df-649f1c8d-f50e-4333-b3c2-faf4178ea1a4');\n",
              "          const dataTable =\n",
              "            await google.colab.kernel.invokeFunction('convertToInteractive',\n",
              "                                                     [key], {});\n",
              "          if (!dataTable) return;\n",
              "\n",
              "          const docLinkHtml = 'Like what you see? Visit the ' +\n",
              "            '<a target=\"_blank\" href=https://colab.research.google.com/notebooks/data_table.ipynb>data table notebook</a>'\n",
              "            + ' to learn more about interactive tables.';\n",
              "          element.innerHTML = '';\n",
              "          dataTable['output_type'] = 'display_data';\n",
              "          await google.colab.output.renderOutput(dataTable, element);\n",
              "          const docLink = document.createElement('div');\n",
              "          docLink.innerHTML = docLinkHtml;\n",
              "          element.appendChild(docLink);\n",
              "        }\n",
              "      </script>\n",
              "    </div>\n",
              "  </div>\n",
              "  "
            ]
          },
          "metadata": {},
          "execution_count": 26
        }
      ]
    },
    {
      "cell_type": "markdown",
      "metadata": {
        "id": "NB543PAUm_Yc"
      },
      "source": [
        "In each line of data the four spectral values for the top-left pixel are given first followed by the four spectral values for the top-middle pixel and then those for the top-right pixel, and so on with the pixels read out in sequence left-to-right and top-to-bottom. \n",
        "\n",
        " Thus, the four spectral values for the central pixel are given by attributes 17,18,19 and 20 (which would be 'middle_center1', 'middle_center2', 'middle_center3', 'middle_center4'). If you like you can use only these four attributes, while ignoring the others. This avoids the problem which arises when a 3x3 neighbourhood straddles a boundary."
      ]
    },
    {
      "cell_type": "code",
      "metadata": {
        "id": "MQwGgBX65akV"
      },
      "source": [
        "df_band1 = df[['top_left1', 'top_center1', 'top_right1', \n",
        "                 'middle_left1', 'middle_center1', 'middle_right1',\n",
        "                 'bottom_left1', 'bottom_center1', 'bottom_right1']].astype('int')\n",
        "df_band2 = df[['top_left2', 'top_center2', 'top_right2', \n",
        "                 'middle_left2', 'middle_center2', 'middle_right2', \n",
        "                 'bottom_left2', 'bottom_center2', 'bottom_right2']].astype('int')\n",
        "df_band3 = df[['top_left3', 'top_center3', 'top_right3', \n",
        "                 'middle_left3', 'middle_center3', 'middle_right3', \n",
        "                 'bottom_left3', 'bottom_center3', 'bottom_right3']].astype('int')\n",
        "df_band4 = df[['top_left4', 'top_center4', 'top_right4', \n",
        "                 'middle_left4', 'middle_center4', 'middle_right4', \n",
        "                 'bottom_left4', 'bottom_center4', 'bottom_right4']].astype('int')"
      ],
      "execution_count": null,
      "outputs": []
    },
    {
      "cell_type": "code",
      "metadata": {
        "colab": {
          "base_uri": "https://localhost:8080/"
        },
        "id": "_b3NX6YaAocy",
        "outputId": "b0e1d104-2cdb-4272-8b84-bbf5385b9152"
      },
      "source": [
        "df_band1.values"
      ],
      "execution_count": null,
      "outputs": [
        {
          "output_type": "execute_result",
          "data": {
            "text/plain": [
              "array([[ 92,  84,  84, ..., 102,  88,  84],\n",
              "       [ 84,  84,  80, ...,  88,  84,  84],\n",
              "       [ 84,  80,  84, ...,  84,  84,  84],\n",
              "       ...,\n",
              "       [ 68,  71,  71, ...,  66,  63,  70],\n",
              "       [ 71,  71,  76, ...,  63,  70,  70],\n",
              "       [ 71,  76,  80, ...,  70,  70,  63]])"
            ]
          },
          "metadata": {},
          "execution_count": 30
        }
      ]
    },
    {
      "cell_type": "code",
      "metadata": {
        "colab": {
          "base_uri": "https://localhost:8080/",
          "height": 81
        },
        "id": "mJOwvbCLTa2u",
        "outputId": "7288c265-a37f-40d9-de40-a39632eb747e"
      },
      "source": [
        "\n",
        "df_band1.iloc[3000:3001]"
      ],
      "execution_count": null,
      "outputs": [
        {
          "output_type": "execute_result",
          "data": {
            "text/plain": [
              "      top_left1  top_center1  top_right1  middle_left1  middle_center1  \\\n",
              "3000         60           53          64            64              60   \n",
              "\n",
              "      middle_right1  bottom_left1  bottom_center1  bottom_right1  \n",
              "3000             71            63              59             71  "
            ],
            "text/html": [
              "\n",
              "  <div id=\"df-c2f8f335-c51a-487a-9161-2f3ef6151011\">\n",
              "    <div class=\"colab-df-container\">\n",
              "      <div>\n",
              "<style scoped>\n",
              "    .dataframe tbody tr th:only-of-type {\n",
              "        vertical-align: middle;\n",
              "    }\n",
              "\n",
              "    .dataframe tbody tr th {\n",
              "        vertical-align: top;\n",
              "    }\n",
              "\n",
              "    .dataframe thead th {\n",
              "        text-align: right;\n",
              "    }\n",
              "</style>\n",
              "<table border=\"1\" class=\"dataframe\">\n",
              "  <thead>\n",
              "    <tr style=\"text-align: right;\">\n",
              "      <th></th>\n",
              "      <th>top_left1</th>\n",
              "      <th>top_center1</th>\n",
              "      <th>top_right1</th>\n",
              "      <th>middle_left1</th>\n",
              "      <th>middle_center1</th>\n",
              "      <th>middle_right1</th>\n",
              "      <th>bottom_left1</th>\n",
              "      <th>bottom_center1</th>\n",
              "      <th>bottom_right1</th>\n",
              "    </tr>\n",
              "  </thead>\n",
              "  <tbody>\n",
              "    <tr>\n",
              "      <th>3000</th>\n",
              "      <td>60</td>\n",
              "      <td>53</td>\n",
              "      <td>64</td>\n",
              "      <td>64</td>\n",
              "      <td>60</td>\n",
              "      <td>71</td>\n",
              "      <td>63</td>\n",
              "      <td>59</td>\n",
              "      <td>71</td>\n",
              "    </tr>\n",
              "  </tbody>\n",
              "</table>\n",
              "</div>\n",
              "      <button class=\"colab-df-convert\" onclick=\"convertToInteractive('df-c2f8f335-c51a-487a-9161-2f3ef6151011')\"\n",
              "              title=\"Convert this dataframe to an interactive table.\"\n",
              "              style=\"display:none;\">\n",
              "        \n",
              "  <svg xmlns=\"http://www.w3.org/2000/svg\" height=\"24px\"viewBox=\"0 0 24 24\"\n",
              "       width=\"24px\">\n",
              "    <path d=\"M0 0h24v24H0V0z\" fill=\"none\"/>\n",
              "    <path d=\"M18.56 5.44l.94 2.06.94-2.06 2.06-.94-2.06-.94-.94-2.06-.94 2.06-2.06.94zm-11 1L8.5 8.5l.94-2.06 2.06-.94-2.06-.94L8.5 2.5l-.94 2.06-2.06.94zm10 10l.94 2.06.94-2.06 2.06-.94-2.06-.94-.94-2.06-.94 2.06-2.06.94z\"/><path d=\"M17.41 7.96l-1.37-1.37c-.4-.4-.92-.59-1.43-.59-.52 0-1.04.2-1.43.59L10.3 9.45l-7.72 7.72c-.78.78-.78 2.05 0 2.83L4 21.41c.39.39.9.59 1.41.59.51 0 1.02-.2 1.41-.59l7.78-7.78 2.81-2.81c.8-.78.8-2.07 0-2.86zM5.41 20L4 18.59l7.72-7.72 1.47 1.35L5.41 20z\"/>\n",
              "  </svg>\n",
              "      </button>\n",
              "      \n",
              "  <style>\n",
              "    .colab-df-container {\n",
              "      display:flex;\n",
              "      flex-wrap:wrap;\n",
              "      gap: 12px;\n",
              "    }\n",
              "\n",
              "    .colab-df-convert {\n",
              "      background-color: #E8F0FE;\n",
              "      border: none;\n",
              "      border-radius: 50%;\n",
              "      cursor: pointer;\n",
              "      display: none;\n",
              "      fill: #1967D2;\n",
              "      height: 32px;\n",
              "      padding: 0 0 0 0;\n",
              "      width: 32px;\n",
              "    }\n",
              "\n",
              "    .colab-df-convert:hover {\n",
              "      background-color: #E2EBFA;\n",
              "      box-shadow: 0px 1px 2px rgba(60, 64, 67, 0.3), 0px 1px 3px 1px rgba(60, 64, 67, 0.15);\n",
              "      fill: #174EA6;\n",
              "    }\n",
              "\n",
              "    [theme=dark] .colab-df-convert {\n",
              "      background-color: #3B4455;\n",
              "      fill: #D2E3FC;\n",
              "    }\n",
              "\n",
              "    [theme=dark] .colab-df-convert:hover {\n",
              "      background-color: #434B5C;\n",
              "      box-shadow: 0px 1px 3px 1px rgba(0, 0, 0, 0.15);\n",
              "      filter: drop-shadow(0px 1px 2px rgba(0, 0, 0, 0.3));\n",
              "      fill: #FFFFFF;\n",
              "    }\n",
              "  </style>\n",
              "\n",
              "      <script>\n",
              "        const buttonEl =\n",
              "          document.querySelector('#df-c2f8f335-c51a-487a-9161-2f3ef6151011 button.colab-df-convert');\n",
              "        buttonEl.style.display =\n",
              "          google.colab.kernel.accessAllowed ? 'block' : 'none';\n",
              "\n",
              "        async function convertToInteractive(key) {\n",
              "          const element = document.querySelector('#df-c2f8f335-c51a-487a-9161-2f3ef6151011');\n",
              "          const dataTable =\n",
              "            await google.colab.kernel.invokeFunction('convertToInteractive',\n",
              "                                                     [key], {});\n",
              "          if (!dataTable) return;\n",
              "\n",
              "          const docLinkHtml = 'Like what you see? Visit the ' +\n",
              "            '<a target=\"_blank\" href=https://colab.research.google.com/notebooks/data_table.ipynb>data table notebook</a>'\n",
              "            + ' to learn more about interactive tables.';\n",
              "          element.innerHTML = '';\n",
              "          dataTable['output_type'] = 'display_data';\n",
              "          await google.colab.output.renderOutput(dataTable, element);\n",
              "          const docLink = document.createElement('div');\n",
              "          docLink.innerHTML = docLinkHtml;\n",
              "          element.appendChild(docLink);\n",
              "        }\n",
              "      </script>\n",
              "    </div>\n",
              "  </div>\n",
              "  "
            ]
          },
          "metadata": {},
          "execution_count": 56
        }
      ]
    },
    {
      "cell_type": "code",
      "metadata": {
        "colab": {
          "base_uri": "https://localhost:8080/"
        },
        "id": "61UBoROqE3l3",
        "outputId": "725dc951-740a-4730-f10d-7bf949ca31c2"
      },
      "source": [
        "# soil with vegetation stubble\n",
        "dfs = df_band1.iloc[3000:3001].to_numpy()\n",
        "dfs"
      ],
      "execution_count": null,
      "outputs": [
        {
          "output_type": "execute_result",
          "data": {
            "text/plain": [
              "array([[60, 53, 64, 64, 60, 71, 63, 59, 71]])"
            ]
          },
          "metadata": {},
          "execution_count": 57
        }
      ]
    },
    {
      "cell_type": "code",
      "metadata": {
        "colab": {
          "base_uri": "https://localhost:8080/"
        },
        "id": "j4aFMjoyRbOK",
        "outputId": "87b73fc7-c73f-40f2-ab3d-cf648a8d7fb7"
      },
      "source": [
        "dfs = np.reshape(dfs, (3,3))\n",
        "dfs"
      ],
      "execution_count": null,
      "outputs": [
        {
          "output_type": "execute_result",
          "data": {
            "text/plain": [
              "array([[60, 53, 64],\n",
              "       [64, 60, 71],\n",
              "       [63, 59, 71]])"
            ]
          },
          "metadata": {},
          "execution_count": 58
        }
      ]
    },
    {
      "cell_type": "code",
      "metadata": {
        "colab": {
          "base_uri": "https://localhost:8080/",
          "height": 452
        },
        "id": "HXetevJ5I6-v",
        "outputId": "c214928a-f5e2-423f-9941-235cf324bcf7"
      },
      "source": [
        "import matplotlib\n",
        "\n",
        "plt.imshow(dfs, cmap = matplotlib.cm.binary, interpolation='nearest')"
      ],
      "execution_count": null,
      "outputs": [
        {
          "output_type": "execute_result",
          "data": {
            "text/plain": [
              "<matplotlib.image.AxesImage at 0x7f8e438d0af0>"
            ]
          },
          "metadata": {},
          "execution_count": 59
        },
        {
          "output_type": "display_data",
          "data": {
            "text/plain": [
              "<Figure size 640x480 with 1 Axes>"
            ],
            "image/png": "[encoded data removed]"
          },
          "metadata": {}
        }
      ]
    },
    {
      "cell_type": "code",
      "source": [],
      "metadata": {
        "id": "HQdrz7dRvCMF"
      },
      "execution_count": null,
      "outputs": []
    },
    {
      "cell_type": "markdown",
      "metadata": {
        "id": "v2xIAvsfTilO"
      },
      "source": [
        "\n",
        "\n",
        "\n",
        "# Binary Classification\n",
        "\n"
      ]
    },
    {
      "cell_type": "code",
      "metadata": {
        "colab": {
          "base_uri": "https://localhost:8080/",
          "height": 206
        },
        "id": "1hnd91BeU38W",
        "outputId": "9f8d354c-d398-47ad-880e-788b1c743c6e"
      },
      "source": [
        "df_band1.head()"
      ],
      "execution_count": null,
      "outputs": [
        {
          "output_type": "execute_result",
          "data": {
            "text/plain": [
              "   top_left1  top_center1  top_right1  middle_left1  middle_center1  \\\n",
              "0         92           84          84           101              92   \n",
              "1         84           84          80            92              84   \n",
              "2         84           80          84            84              84   \n",
              "3         80           84          80            84              84   \n",
              "4         84           80          80            84              76   \n",
              "\n",
              "   middle_right1  bottom_left1  bottom_center1  bottom_right1  \n",
              "0             84           102              88             84  \n",
              "1             84            88              84             84  \n",
              "2             84            84              84             84  \n",
              "3             76            84              84             84  \n",
              "4             76            84              84             79  "
            ],
            "text/html": [
              "\n",
              "  <div id=\"df-903c678d-ccb0-4ae2-a14f-09106b2b8488\">\n",
              "    <div class=\"colab-df-container\">\n",
              "      <div>\n",
              "<style scoped>\n",
              "    .dataframe tbody tr th:only-of-type {\n",
              "        vertical-align: middle;\n",
              "    }\n",
              "\n",
              "    .dataframe tbody tr th {\n",
              "        vertical-align: top;\n",
              "    }\n",
              "\n",
              "    .dataframe thead th {\n",
              "        text-align: right;\n",
              "    }\n",
              "</style>\n",
              "<table border=\"1\" class=\"dataframe\">\n",
              "  <thead>\n",
              "    <tr style=\"text-align: right;\">\n",
              "      <th></th>\n",
              "      <th>top_left1</th>\n",
              "      <th>top_center1</th>\n",
              "      <th>top_right1</th>\n",
              "      <th>middle_left1</th>\n",
              "      <th>middle_center1</th>\n",
              "      <th>middle_right1</th>\n",
              "      <th>bottom_left1</th>\n",
              "      <th>bottom_center1</th>\n",
              "      <th>bottom_right1</th>\n",
              "    </tr>\n",
              "  </thead>\n",
              "  <tbody>\n",
              "    <tr>\n",
              "      <th>0</th>\n",
              "      <td>92</td>\n",
              "      <td>84</td>\n",
              "      <td>84</td>\n",
              "      <td>101</td>\n",
              "      <td>92</td>\n",
              "      <td>84</td>\n",
              "      <td>102</td>\n",
              "      <td>88</td>\n",
              "      <td>84</td>\n",
              "    </tr>\n",
              "    <tr>\n",
              "      <th>1</th>\n",
              "      <td>84</td>\n",
              "      <td>84</td>\n",
              "      <td>80</td>\n",
              "      <td>92</td>\n",
              "      <td>84</td>\n",
              "      <td>84</td>\n",
              "      <td>88</td>\n",
              "      <td>84</td>\n",
              "      <td>84</td>\n",
              "    </tr>\n",
              "    <tr>\n",
              "      <th>2</th>\n",
              "      <td>84</td>\n",
              "      <td>80</td>\n",
              "      <td>84</td>\n",
              "      <td>84</td>\n",
              "      <td>84</td>\n",
              "      <td>84</td>\n",
              "      <td>84</td>\n",
              "      <td>84</td>\n",
              "      <td>84</td>\n",
              "    </tr>\n",
              "    <tr>\n",
              "      <th>3</th>\n",
              "      <td>80</td>\n",
              "      <td>84</td>\n",
              "      <td>80</td>\n",
              "      <td>84</td>\n",
              "      <td>84</td>\n",
              "      <td>76</td>\n",
              "      <td>84</td>\n",
              "      <td>84</td>\n",
              "      <td>84</td>\n",
              "    </tr>\n",
              "    <tr>\n",
              "      <th>4</th>\n",
              "      <td>84</td>\n",
              "      <td>80</td>\n",
              "      <td>80</td>\n",
              "      <td>84</td>\n",
              "      <td>76</td>\n",
              "      <td>76</td>\n",
              "      <td>84</td>\n",
              "      <td>84</td>\n",
              "      <td>79</td>\n",
              "    </tr>\n",
              "  </tbody>\n",
              "</table>\n",
              "</div>\n",
              "      <button class=\"colab-df-convert\" onclick=\"convertToInteractive('df-903c678d-ccb0-4ae2-a14f-09106b2b8488')\"\n",
              "              title=\"Convert this dataframe to an interactive table.\"\n",
              "              style=\"display:none;\">\n",
              "        \n",
              "  <svg xmlns=\"http://www.w3.org/2000/svg\" height=\"24px\"viewBox=\"0 0 24 24\"\n",
              "       width=\"24px\">\n",
              "    <path d=\"M0 0h24v24H0V0z\" fill=\"none\"/>\n",
              "    <path d=\"M18.56 5.44l.94 2.06.94-2.06 2.06-.94-2.06-.94-.94-2.06-.94 2.06-2.06.94zm-11 1L8.5 8.5l.94-2.06 2.06-.94-2.06-.94L8.5 2.5l-.94 2.06-2.06.94zm10 10l.94 2.06.94-2.06 2.06-.94-2.06-.94-.94-2.06-.94 2.06-2.06.94z\"/><path d=\"M17.41 7.96l-1.37-1.37c-.4-.4-.92-.59-1.43-.59-.52 0-1.04.2-1.43.59L10.3 9.45l-7.72 7.72c-.78.78-.78 2.05 0 2.83L4 21.41c.39.39.9.59 1.41.59.51 0 1.02-.2 1.41-.59l7.78-7.78 2.81-2.81c.8-.78.8-2.07 0-2.86zM5.41 20L4 18.59l7.72-7.72 1.47 1.35L5.41 20z\"/>\n",
              "  </svg>\n",
              "      </button>\n",
              "      \n",
              "  <style>\n",
              "    .colab-df-container {\n",
              "      display:flex;\n",
              "      flex-wrap:wrap;\n",
              "      gap: 12px;\n",
              "    }\n",
              "\n",
              "    .colab-df-convert {\n",
              "      background-color: #E8F0FE;\n",
              "      border: none;\n",
              "      border-radius: 50%;\n",
              "      cursor: pointer;\n",
              "      display: none;\n",
              "      fill: #1967D2;\n",
              "      height: 32px;\n",
              "      padding: 0 0 0 0;\n",
              "      width: 32px;\n",
              "    }\n",
              "\n",
              "    .colab-df-convert:hover {\n",
              "      background-color: #E2EBFA;\n",
              "      box-shadow: 0px 1px 2px rgba(60, 64, 67, 0.3), 0px 1px 3px 1px rgba(60, 64, 67, 0.15);\n",
              "      fill: #174EA6;\n",
              "    }\n",
              "\n",
              "    [theme=dark] .colab-df-convert {\n",
              "      background-color: #3B4455;\n",
              "      fill: #D2E3FC;\n",
              "    }\n",
              "\n",
              "    [theme=dark] .colab-df-convert:hover {\n",
              "      background-color: #434B5C;\n",
              "      box-shadow: 0px 1px 3px 1px rgba(0, 0, 0, 0.15);\n",
              "      filter: drop-shadow(0px 1px 2px rgba(0, 0, 0, 0.3));\n",
              "      fill: #FFFFFF;\n",
              "    }\n",
              "  </style>\n",
              "\n",
              "      <script>\n",
              "        const buttonEl =\n",
              "          document.querySelector('#df-903c678d-ccb0-4ae2-a14f-09106b2b8488 button.colab-df-convert');\n",
              "        buttonEl.style.display =\n",
              "          google.colab.kernel.accessAllowed ? 'block' : 'none';\n",
              "\n",
              "        async function convertToInteractive(key) {\n",
              "          const element = document.querySelector('#df-903c678d-ccb0-4ae2-a14f-09106b2b8488');\n",
              "          const dataTable =\n",
              "            await google.colab.kernel.invokeFunction('convertToInteractive',\n",
              "                                                     [key], {});\n",
              "          if (!dataTable) return;\n",
              "\n",
              "          const docLinkHtml = 'Like what you see? Visit the ' +\n",
              "            '<a target=\"_blank\" href=https://colab.research.google.com/notebooks/data_table.ipynb>data table notebook</a>'\n",
              "            + ' to learn more about interactive tables.';\n",
              "          element.innerHTML = '';\n",
              "          dataTable['output_type'] = 'display_data';\n",
              "          await google.colab.output.renderOutput(dataTable, element);\n",
              "          const docLink = document.createElement('div');\n",
              "          docLink.innerHTML = docLinkHtml;\n",
              "          element.appendChild(docLink);\n",
              "        }\n",
              "      </script>\n",
              "    </div>\n",
              "  </div>\n",
              "  "
            ]
          },
          "metadata": {},
          "execution_count": 31
        }
      ]
    },
    {
      "cell_type": "code",
      "metadata": {
        "id": "8NLr1f01VgSa"
      },
      "source": [
        "df_band1 = df_band1.to_numpy()\n",
        "df_band2 = df_band2.to_numpy()\n",
        "df_band3 = df_band3.to_numpy()\n",
        "df_band4 = df_band4.to_numpy()"
      ],
      "execution_count": null,
      "outputs": []
    },
    {
      "cell_type": "code",
      "metadata": {
        "colab": {
          "base_uri": "https://localhost:8080/"
        },
        "id": "ovx1X3WeZhfH",
        "outputId": "0abd801e-8525-4b47-8922-5e1fb46e32ad"
      },
      "source": [
        "df_band1[0]"
      ],
      "execution_count": null,
      "outputs": [
        {
          "output_type": "execute_result",
          "data": {
            "text/plain": [
              "array([ 92,  84,  84, 101,  92,  84, 102,  88,  84])"
            ]
          },
          "metadata": {},
          "execution_count": 33
        }
      ]
    },
    {
      "cell_type": "code",
      "metadata": {
        "id": "lHFG55tgWF2g"
      },
      "source": [
        "band1, band2, band3, band4 = [], [], [], []\n",
        "\n",
        "for i in range(0,len(df_band1)):\n",
        "  array = df_band1[i]\n",
        "  array = np.reshape(array, (3,3))\n",
        "  band1.append(array)\n",
        "\n",
        "for i in range(0,len(df_band2)):\n",
        "  array = df_band2[i]\n",
        "  array = np.reshape(array, (3,3))\n",
        "  band2.append(array)\n",
        "\n",
        "for i in range(0,len(df_band3)):\n",
        "  array = df_band3[i]\n",
        "  array = np.reshape(array, (3,3))\n",
        "  band3.append(array)\n",
        "\n",
        "for i in range(0,len(df_band4)):\n",
        "  array = df_band4[i]\n",
        "  array = np.reshape(array, (3,3))\n",
        "  band4.append(array)"
      ],
      "execution_count": null,
      "outputs": []
    },
    {
      "cell_type": "code",
      "metadata": {
        "colab": {
          "base_uri": "https://localhost:8080/"
        },
        "id": "8uefghxZWtsk",
        "outputId": "74e515b3-c624-4309-f0e6-eb6d5e4fa00b"
      },
      "source": [
        "band1[0]"
      ],
      "execution_count": null,
      "outputs": [
        {
          "output_type": "execute_result",
          "data": {
            "text/plain": [
              "array([[ 92,  84,  84],\n",
              "       [101,  92,  84],\n",
              "       [102,  88,  84]])"
            ]
          },
          "metadata": {},
          "execution_count": 35
        }
      ]
    },
    {
      "cell_type": "code",
      "metadata": {
        "colab": {
          "base_uri": "https://localhost:8080/"
        },
        "id": "6-j_Z49Chs_t",
        "outputId": "4d34d0d0-696b-49a9-8371-4141b660d8e7"
      },
      "source": [
        "len(band1)"
      ],
      "execution_count": null,
      "outputs": [
        {
          "output_type": "execute_result",
          "data": {
            "text/plain": [
              "4435"
            ]
          },
          "metadata": {},
          "execution_count": 36
        }
      ]
    },
    {
      "cell_type": "code",
      "metadata": {
        "colab": {
          "base_uri": "https://localhost:8080/",
          "height": 452
        },
        "id": "L4k81S_8T1Td",
        "outputId": "c4b111ae-1a7c-40ed-8513-019bfe04ff4b"
      },
      "source": [
        "import matplotlib\n",
        "\n",
        "plt.imshow(band1[0], cmap = matplotlib.cm.binary, interpolation='nearest')"
      ],
      "execution_count": null,
      "outputs": [
        {
          "output_type": "execute_result",
          "data": {
            "text/plain": [
              "<matplotlib.image.AxesImage at 0x7fcb9accaec0>"
            ]
          },
          "metadata": {},
          "execution_count": 38
        },
        {
          "output_type": "display_data",
          "data": {
            "text/plain": [
              "<Figure size 640x480 with 1 Axes>"
            ],
            "image/png": "[encoded data removed]"
          },
          "metadata": {}
        }
      ]
    },
    {
      "cell_type": "code",
      "metadata": {
        "colab": {
          "base_uri": "https://localhost:8080/"
        },
        "id": "P5D2jRzPrKra",
        "outputId": "bbd2186a-9df0-4394-c27c-2c60cb5549e8"
      },
      "source": [
        "df.columns"
      ],
      "execution_count": null,
      "outputs": [
        {
          "output_type": "execute_result",
          "data": {
            "text/plain": [
              "Index(['top_left1', 'top_left2', 'top_left3', 'top_left4', 'top_center1',\n",
              "       'top_center2', 'top_center3', 'top_center4', 'top_right1', 'top_right2',\n",
              "       'top_right3', 'top_right4', 'middle_left1', 'middle_left2',\n",
              "       'middle_left3', 'middle_left4', 'middle_center1', 'middle_center2',\n",
              "       'middle_center3', 'middle_center4', 'middle_right1', 'middle_right2',\n",
              "       'middle_right3', 'middle_right4', 'bottom_left1', 'bottom_left2',\n",
              "       'bottom_left3', 'bottom_left4', 'bottom_center1', 'bottom_center2',\n",
              "       'bottom_center3', 'bottom_center4', 'bottom_right1', 'bottom_right2',\n",
              "       'bottom_right3', 'bottom_right4', 'Class'],\n",
              "      dtype='object')"
            ]
          },
          "metadata": {},
          "execution_count": 39
        }
      ]
    },
    {
      "cell_type": "code",
      "metadata": {
        "id": "pt24ek5GqwvD"
      },
      "source": [
        "df_band1 = df[['top_left1', 'top_center1', 'top_right1', \n",
        "                 'middle_left1', 'middle_center1', 'middle_right1',\n",
        "                 'bottom_left1', 'bottom_center1', 'bottom_right1', 'Class']].astype('int')\n",
        "df_band2 = df[['top_left2', 'top_center2', 'top_right2', \n",
        "                 'middle_left2', 'middle_center2', 'middle_right2', \n",
        "                 'bottom_left2', 'bottom_center2', 'bottom_right2', 'Class']].astype('int')\n",
        "df_band3 = df[['top_left3', 'top_center3', 'top_right3', \n",
        "                 'middle_left3', 'middle_center3', 'middle_right3', \n",
        "                 'bottom_left3', 'bottom_center3', 'bottom_right3', 'Class']].astype('int')\n",
        "df_band4 = df[['top_left4', 'top_center4', 'top_right4', \n",
        "                 'middle_left4', 'middle_center4', 'middle_right4', \n",
        "                 'bottom_left4', 'bottom_center4', 'bottom_right4', 'Class']].astype('int')"
      ],
      "execution_count": null,
      "outputs": []
    },
    {
      "cell_type": "code",
      "metadata": {
        "colab": {
          "base_uri": "https://localhost:8080/"
        },
        "id": "sxyc86fnx1Qi",
        "outputId": "3bed966c-eacb-4834-9386-c75874bc2924"
      },
      "source": [
        "# Using only middle_center1\n",
        "#band_1 = sat[['middle_center1', 'Class']].astype('int')\n",
        "band_01 = df_band1.to_numpy() #band_1[['middle_center1']].to_numpy()\n",
        "\n",
        "# Using only middle_center2\n",
        "#band_2 = sat[['middle_center2', 'Class']].astype('int')\n",
        "band_02 = df_band2.to_numpy() #band_2[['middle_center2']].to_numpy()\n",
        "\n",
        "# Using only middle_center3\n",
        "#band_3 = sat[['middle_center3', 'Class']].astype('int')\n",
        "band_03 = df_band3.to_numpy() #band_3[['middle_center3']].to_numpy()\n",
        "\n",
        "# Using only middle_center2\n",
        "#band_4 = sat[['middle_center4', 'Class']].astype('int')\n",
        "band_04 = df_band4.to_numpy() #band_4[['middle_center4']].to_numpy()\n",
        "band_01"
      ],
      "execution_count": null,
      "outputs": [
        {
          "output_type": "execute_result",
          "data": {
            "text/plain": [
              "array([[92, 84, 84, ..., 88, 84,  3],\n",
              "       [84, 84, 80, ..., 84, 84,  3],\n",
              "       [84, 80, 84, ..., 84, 84,  3],\n",
              "       ...,\n",
              "       [68, 71, 71, ..., 63, 70,  4],\n",
              "       [71, 71, 76, ..., 70, 70,  4],\n",
              "       [71, 76, 80, ..., 70, 63,  4]])"
            ]
          },
          "metadata": {},
          "execution_count": 56
        }
      ]
    },
    {
      "cell_type": "code",
      "metadata": {
        "colab": {
          "base_uri": "https://localhost:8080/"
        },
        "id": "c_LbHtQsqxrF",
        "outputId": "61f227c4-faef-47fb-d648-7dd5c729b899"
      },
      "source": [
        "yband1_5 = (df_band1['Class'] == 7) # True for all 5s. False for others.\n",
        "yband2_5 = (df_band2['Class'] == 7)\n",
        "yband3_5 = (df_band3['Class'] == 7)\n",
        "yband4_5 = (df_band4['Class'] == 7)\n",
        "yband4_5"
      ],
      "execution_count": null,
      "outputs": [
        {
          "output_type": "execute_result",
          "data": {
            "text/plain": [
              "0       False\n",
              "1       False\n",
              "2       False\n",
              "3       False\n",
              "4       False\n",
              "        ...  \n",
              "4430    False\n",
              "4431    False\n",
              "4432    False\n",
              "4433    False\n",
              "4434    False\n",
              "Name: Class, Length: 4435, dtype: bool"
            ]
          },
          "metadata": {},
          "execution_count": 73
        }
      ]
    },
    {
      "cell_type": "code",
      "metadata": {
        "colab": {
          "base_uri": "https://localhost:8080/",
          "height": 75
        },
        "id": "I02aelCuqzVO",
        "outputId": "27992c15-bde7-4143-fbd1-625746375e1d"
      },
      "source": [
        "from sklearn.linear_model import SGDClassifier # Stochastic Gradient Descent Classifier\n",
        "sgd_clf1 = SGDClassifier(random_state=42, eta0=1, learning_rate='adaptive')\n",
        "sgd_clf2 = SGDClassifier(random_state=42, eta0=1, learning_rate='adaptive')\n",
        "sgd_clf3 = SGDClassifier(random_state=42, eta0=1, learning_rate='adaptive')\n",
        "sgd_clf4 = SGDClassifier(random_state=42, eta0=1, learning_rate='adaptive')\n",
        "sgd_clf1.fit(band_01, yband1_5)\n",
        "sgd_clf2.fit(band_02, yband2_5)\n",
        "sgd_clf3.fit(band_03, yband3_5)\n",
        "sgd_clf4.fit(band_04, yband4_5)"
      ],
      "execution_count": null,
      "outputs": [
        {
          "output_type": "execute_result",
          "data": {
            "text/plain": [
              "SGDClassifier(eta0=1, learning_rate='adaptive', random_state=42)"
            ],
            "text/html": [
              "<style>#sk-container-id-3 {color: black;background-color: white;}#sk-container-id-3 pre{padding: 0;}#sk-container-id-3 div.sk-toggleable {background-color: white;}#sk-container-id-3 label.sk-toggleable__label {cursor: pointer;display: block;width: 100%;margin-bottom: 0;padding: 0.3em;box-sizing: border-box;text-align: center;}#sk-container-id-3 label.sk-toggleable__label-arrow:before {content: \"▸\";float: left;margin-right: 0.25em;color: #696969;}#sk-container-id-3 label.sk-toggleable__label-arrow:hover:before {color: black;}#sk-container-id-3 div.sk-estimator:hover label.sk-toggleable__label-arrow:before {color: black;}#sk-container-id-3 div.sk-toggleable__content {max-height: 0;max-width: 0;overflow: hidden;text-align: left;background-color: #f0f8ff;}#sk-container-id-3 div.sk-toggleable__content pre {margin: 0.2em;color: black;border-radius: 0.25em;background-color: #f0f8ff;}#sk-container-id-3 input.sk-toggleable__control:checked~div.sk-toggleable__content {max-height: 200px;max-width: 100%;overflow: auto;}#sk-container-id-3 input.sk-toggleable__control:checked~label.sk-toggleable__label-arrow:before {content: \"▾\";}#sk-container-id-3 div.sk-estimator input.sk-toggleable__control:checked~label.sk-toggleable__label {background-color: #d4ebff;}#sk-container-id-3 div.sk-label input.sk-toggleable__control:checked~label.sk-toggleable__label {background-color: #d4ebff;}#sk-container-id-3 input.sk-hidden--visually {border: 0;clip: rect(1px 1px 1px 1px);clip: rect(1px, 1px, 1px, 1px);height: 1px;margin: -1px;overflow: hidden;padding: 0;position: absolute;width: 1px;}#sk-container-id-3 div.sk-estimator {font-family: monospace;background-color: #f0f8ff;border: 1px dotted black;border-radius: 0.25em;box-sizing: border-box;margin-bottom: 0.5em;}#sk-container-id-3 div.sk-estimator:hover {background-color: #d4ebff;}#sk-container-id-3 div.sk-parallel-item::after {content: \"\";width: 100%;border-bottom: 1px solid gray;flex-grow: 1;}#sk-container-id-3 div.sk-label:hover label.sk-toggleable__label {background-color: #d4ebff;}#sk-container-id-3 div.sk-serial::before {content: \"\";position: absolute;border-left: 1px solid gray;box-sizing: border-box;top: 0;bottom: 0;left: 50%;z-index: 0;}#sk-container-id-3 div.sk-serial {display: flex;flex-direction: column;align-items: center;background-color: white;padding-right: 0.2em;padding-left: 0.2em;position: relative;}#sk-container-id-3 div.sk-item {position: relative;z-index: 1;}#sk-container-id-3 div.sk-parallel {display: flex;align-items: stretch;justify-content: center;background-color: white;position: relative;}#sk-container-id-3 div.sk-item::before, #sk-container-id-3 div.sk-parallel-item::before {content: \"\";position: absolute;border-left: 1px solid gray;box-sizing: border-box;top: 0;bottom: 0;left: 50%;z-index: -1;}#sk-container-id-3 div.sk-parallel-item {display: flex;flex-direction: column;z-index: 1;position: relative;background-color: white;}#sk-container-id-3 div.sk-parallel-item:first-child::after {align-self: flex-end;width: 50%;}#sk-container-id-3 div.sk-parallel-item:last-child::after {align-self: flex-start;width: 50%;}#sk-container-id-3 div.sk-parallel-item:only-child::after {width: 0;}#sk-container-id-3 div.sk-dashed-wrapped {border: 1px dashed gray;margin: 0 0.4em 0.5em 0.4em;box-sizing: border-box;padding-bottom: 0.4em;background-color: white;}#sk-container-id-3 div.sk-label label {font-family: monospace;font-weight: bold;display: inline-block;line-height: 1.2em;}#sk-container-id-3 div.sk-label-container {text-align: center;}#sk-container-id-3 div.sk-container {/* jupyter's `normalize.less` sets `[hidden] { display: none; }` but bootstrap.min.css set `[hidden] { display: none !important; }` so we also need the `!important` here to be able to override the default hidden behavior on the sphinx rendered scikit-learn.org. See: https://github.com/scikit-learn/scikit-learn/issues/21755 */display: inline-block !important;position: relative;}#sk-container-id-3 div.sk-text-repr-fallback {display: none;}</style><div id=\"sk-container-id-3\" class=\"sk-top-container\"><div class=\"sk-text-repr-fallback\"><pre>SGDClassifier(eta0=1, learning_rate=&#x27;adaptive&#x27;, random_state=42)</pre><b>In a Jupyter environment, please rerun this cell to show the HTML representation or trust the notebook. <br />On GitHub, the HTML representation is unable to render, please try loading this page with nbviewer.org.</b></div><div class=\"sk-container\" hidden><div class=\"sk-item\"><div class=\"sk-estimator sk-toggleable\"><input class=\"sk-toggleable__control sk-hidden--visually\" id=\"sk-estimator-id-3\" type=\"checkbox\" checked><label for=\"sk-estimator-id-3\" class=\"sk-toggleable__label sk-toggleable__label-arrow\">SGDClassifier</label><div class=\"sk-toggleable__content\"><pre>SGDClassifier(eta0=1, learning_rate=&#x27;adaptive&#x27;, random_state=42)</pre></div></div></div></div></div>"
            ]
          },
          "metadata": {},
          "execution_count": 58
        }
      ]
    },
    {
      "cell_type": "code",
      "metadata": {
        "colab": {
          "base_uri": "https://localhost:8080/"
        },
        "id": "Q9NtYRNKVN06",
        "outputId": "c40436f5-4ec7-4794-b346-06fcd24d60ca"
      },
      "source": [
        "print(sgd_clf1.coef_)\n",
        "print(sgd_clf2.coef_)\n",
        "print(sgd_clf3.coef_)\n",
        "print(sgd_clf4.coef_)"
      ],
      "execution_count": null,
      "outputs": [
        {
          "output_type": "stream",
          "name": "stdout",
          "text": [
            "[[ -20.488392      9.35953732  -32.08611561  -13.44510743    6.51966991\n",
            "   -33.03399729  -38.88856311   -3.90521181   -7.01158931 1551.52475039]]\n",
            "[[ -28.38032684   19.68267597  -27.8683429     5.49599152   -5.11565531\n",
            "   -10.10899701  -29.87247867    3.04487039   -4.57194929 1064.90339016]]\n",
            "[[ -31.84726937    4.70936639  -31.48248275  -31.61812349   -3.00307657\n",
            "     3.63209946  -57.36988163   55.13340638  -76.06028387 2176.2685544 ]]\n",
            "[[ -32.69944063   14.72351036  -33.13508479   -9.02716484    7.15601615\n",
            "   -14.69090729  -45.70919668   28.14581936  -41.40862195 1345.63163694]]\n"
          ]
        }
      ]
    },
    {
      "cell_type": "code",
      "metadata": {
        "colab": {
          "base_uri": "https://localhost:8080/"
        },
        "id": "BIFyMcwQ0L5f",
        "outputId": "659bb61e-ac6d-4d9f-8bb3-83021d43cc92"
      },
      "source": [
        "band_01[0]"
      ],
      "execution_count": null,
      "outputs": [
        {
          "output_type": "execute_result",
          "data": {
            "text/plain": [
              "array([ 92,  84,  84, 101,  92,  84, 102,  88,  84,   3])"
            ]
          },
          "metadata": {},
          "execution_count": 60
        }
      ]
    },
    {
      "cell_type": "code",
      "metadata": {
        "id": "1f_Gbc5txNqH"
      },
      "source": [
        "detect1, detect2, detect3, detect4 = [],[],[],[]\n",
        "\n",
        "for i in range(0,len(band_01)):\n",
        "  pred1 = sgd_clf1.predict([band_01[i]])\n",
        "  pred2 = sgd_clf2.predict([band_02[i]])\n",
        "  pred3 = sgd_clf3.predict([band_03[i]])\n",
        "  pred4 = sgd_clf4.predict([band_04[i]])\n",
        "  detect1.append(pred1)\n",
        "  detect2.append(pred2)\n",
        "  detect3.append(pred3)\n",
        "  detect4.append(pred4)"
      ],
      "execution_count": null,
      "outputs": []
    },
    {
      "cell_type": "code",
      "metadata": {
        "colab": {
          "base_uri": "https://localhost:8080/"
        },
        "id": "K8eTq6mt7Nyy",
        "outputId": "0d3e5e7e-a5a0-49ff-963c-3f4b09fe2a9c"
      },
      "source": [
        "unique, counts = np.unique(detect1, return_counts=True)\n",
        "dict(zip(unique, counts))"
      ],
      "execution_count": null,
      "outputs": [
        {
          "output_type": "execute_result",
          "data": {
            "text/plain": [
              "{False: 3369, True: 1066}"
            ]
          },
          "metadata": {},
          "execution_count": 62
        }
      ]
    },
    {
      "cell_type": "code",
      "metadata": {
        "colab": {
          "base_uri": "https://localhost:8080/"
        },
        "id": "pX5dHptR7uvz",
        "outputId": "c100d99a-ef45-4625-e106-5f0b9dd18a22"
      },
      "source": [
        "df['Class'].value_counts() # True positives"
      ],
      "execution_count": null,
      "outputs": [
        {
          "output_type": "execute_result",
          "data": {
            "text/plain": [
              "1    1072\n",
              "7    1038\n",
              "3     961\n",
              "2     479\n",
              "5     470\n",
              "4     415\n",
              "Name: Class, dtype: int64"
            ]
          },
          "metadata": {},
          "execution_count": 63
        }
      ]
    },
    {
      "cell_type": "code",
      "metadata": {
        "colab": {
          "base_uri": "https://localhost:8080/"
        },
        "id": "mDB1o9rtDFJv",
        "outputId": "c894f253-b47d-4bd5-ec8f-4045842582c6"
      },
      "source": [
        "detect1[0]"
      ],
      "execution_count": null,
      "outputs": [
        {
          "output_type": "execute_result",
          "data": {
            "text/plain": [
              "array([False])"
            ]
          },
          "metadata": {},
          "execution_count": 64
        }
      ]
    },
    {
      "cell_type": "code",
      "metadata": {
        "colab": {
          "base_uri": "https://localhost:8080/"
        },
        "id": "ryxde1LLC6iP",
        "outputId": "0c30ae6c-ef61-4df4-a366-ca0a365b19b5"
      },
      "source": [
        "from sklearn.model_selection import cross_val_score\n",
        "cross_val_score(sgd_clf1, band_01, yband1_5, cv=3, scoring=\"accuracy\")"
      ],
      "execution_count": null,
      "outputs": [
        {
          "output_type": "execute_result",
          "data": {
            "text/plain": [
              "array([0.96822177, 0.94857916, 0.95196211])"
            ]
          },
          "metadata": {},
          "execution_count": 65
        }
      ]
    },
    {
      "cell_type": "code",
      "metadata": {
        "colab": {
          "base_uri": "https://localhost:8080/"
        },
        "id": "8JxH0f2cgMCl",
        "outputId": "d28b22d0-ce5a-4270-8c05-f6cfc01507fc"
      },
      "source": [
        "cross_val_score(sgd_clf2, band_02, yband2_5, cv=3, scoring=\"accuracy\")"
      ],
      "execution_count": null,
      "outputs": [
        {
          "output_type": "execute_result",
          "data": {
            "text/plain": [
              "array([0.90872211, 0.90054127, 0.91069012])"
            ]
          },
          "metadata": {},
          "execution_count": 66
        }
      ]
    },
    {
      "cell_type": "code",
      "metadata": {
        "colab": {
          "base_uri": "https://localhost:8080/"
        },
        "id": "gltOBwF1gN99",
        "outputId": "06f41e80-2196-4c5c-d9d6-8e8fa892c4ef"
      },
      "source": [
        "cross_val_score(sgd_clf3, band_03, yband3_5, cv=3, scoring=\"accuracy\")"
      ],
      "execution_count": null,
      "outputs": [
        {
          "output_type": "execute_result",
          "data": {
            "text/plain": [
              "array([0.95605139, 0.99052774, 0.96549391])"
            ]
          },
          "metadata": {},
          "execution_count": 67
        }
      ]
    },
    {
      "cell_type": "code",
      "metadata": {
        "colab": {
          "base_uri": "https://localhost:8080/"
        },
        "id": "-IE4K3IsgORP",
        "outputId": "32522b4a-6991-476a-f435-2ee86dccb35a"
      },
      "source": [
        "cross_val_score(sgd_clf4, band_04, yband4_5, cv=3, scoring=\"accuracy\")"
      ],
      "execution_count": null,
      "outputs": [
        {
          "output_type": "execute_result",
          "data": {
            "text/plain": [
              "array([0.95740365, 0.98849797, 0.95737483])"
            ]
          },
          "metadata": {},
          "execution_count": 68
        }
      ]
    },
    {
      "cell_type": "code",
      "metadata": {
        "id": "ooqGd9jEDZ1C"
      },
      "source": [
        "from sklearn.base import BaseEstimator\n",
        "class Never5Classifier(BaseEstimator):\n",
        "  def fit(self, X, y=None):\n",
        "    pass\n",
        "  def predict(self, X):\n",
        "    return np.zeros((len(X), 1), dtype=bool)"
      ],
      "execution_count": null,
      "outputs": []
    },
    {
      "cell_type": "code",
      "metadata": {
        "colab": {
          "base_uri": "https://localhost:8080/"
        },
        "id": "YHijGfw2DzdR",
        "outputId": "9e2037b4-2b74-4dad-c9f7-44054cc29bec"
      },
      "source": [
        "never_5_clf = Never5Classifier()\n",
        "cross_val_score(never_5_clf, band_01, yband1_5, cv=3, scoring=\"accuracy\")"
      ],
      "execution_count": null,
      "outputs": [
        {
          "output_type": "execute_result",
          "data": {
            "text/plain": [
              "array([0.81609195, 0.59539919, 0.88633288])"
            ]
          },
          "metadata": {},
          "execution_count": 85
        }
      ]
    },
    {
      "cell_type": "code",
      "metadata": {
        "colab": {
          "base_uri": "https://localhost:8080/"
        },
        "id": "KVTjiE_ogYej",
        "outputId": "b895d3ee-c212-4bf6-b3ef-ca25048afe94"
      },
      "source": [
        "cross_val_score(never_5_clf, band_02, yband2_5, cv=3, scoring=\"accuracy\")"
      ],
      "execution_count": null,
      "outputs": [
        {
          "output_type": "execute_result",
          "data": {
            "text/plain": [
              "array([0.81609195, 0.59539919, 0.88633288])"
            ]
          },
          "metadata": {},
          "execution_count": 86
        }
      ]
    },
    {
      "cell_type": "code",
      "metadata": {
        "colab": {
          "base_uri": "https://localhost:8080/"
        },
        "id": "wSQMY0UjgcLQ",
        "outputId": "af3e4976-2e49-4652-86c7-a486f2c6a0a7"
      },
      "source": [
        "cross_val_score(never_5_clf, band_03, yband3_5, cv=3, scoring=\"accuracy\")"
      ],
      "execution_count": null,
      "outputs": [
        {
          "output_type": "execute_result",
          "data": {
            "text/plain": [
              "array([0.81609195, 0.59539919, 0.88633288])"
            ]
          },
          "metadata": {},
          "execution_count": 87
        }
      ]
    },
    {
      "cell_type": "code",
      "metadata": {
        "colab": {
          "base_uri": "https://localhost:8080/"
        },
        "id": "F1ymv5Rkgc3L",
        "outputId": "4f4cecfb-2253-4fc9-f442-05c89b6752e1"
      },
      "source": [
        "cross_val_score(never_5_clf, band_04, yband4_5, cv=3, scoring=\"accuracy\")"
      ],
      "execution_count": null,
      "outputs": [
        {
          "output_type": "execute_result",
          "data": {
            "text/plain": [
              "array([0.81609195, 0.59539919, 0.88633288])"
            ]
          },
          "metadata": {},
          "execution_count": 88
        }
      ]
    },
    {
      "cell_type": "code",
      "metadata": {
        "id": "nS7q2BsREfvx"
      },
      "source": [
        "from sklearn.model_selection import cross_val_predict\n",
        "y_train_pred1 = cross_val_predict(sgd_clf1, band_01, yband1_5, cv=3)\n",
        "y_train_pred2 = cross_val_predict(sgd_clf2, band_02, yband2_5, cv=3)\n",
        "y_train_pred3 = cross_val_predict(sgd_clf3, band_03, yband3_5, cv=3)\n",
        "y_train_pred4 = cross_val_predict(sgd_clf4, band_04, yband4_5, cv=3)"
      ],
      "execution_count": null,
      "outputs": []
    },
    {
      "cell_type": "code",
      "metadata": {
        "colab": {
          "base_uri": "https://localhost:8080/"
        },
        "id": "Fx7VTJVwEzBd",
        "outputId": "3cc58c43-5ad9-49a2-b743-67bf24e928b6"
      },
      "source": [
        "from sklearn.metrics import confusion_matrix\n",
        "confusion_matrix(yband1_5, y_train_pred1)"
      ],
      "execution_count": null,
      "outputs": [
        {
          "output_type": "execute_result",
          "data": {
            "text/plain": [
              "array([[3304,   93],\n",
              "       [ 101,  937]])"
            ]
          },
          "metadata": {},
          "execution_count": 90
        }
      ]
    },
    {
      "cell_type": "markdown",
      "metadata": {
        "id": "LkXas7blGle1"
      },
      "source": [
        "## Precision and Recall\n",
        "\n",
        "$Precision = \\frac{True Positive}{True Positive + False Positive} = \\frac{True Positive}{Total Predicted Positive} $\n",
        "\n",
        "$Recall = \\frac{True Positive}{True Positive + False Negative} = \\frac{True Positive}{Total Actual Positive}$\n",
        "\n",
        "$F1 = 2\\times\\frac{Precision\\times Recall}{Precision + Recall}$\n",
        "\n",
        "True positive = `yband1_5`"
      ]
    },
    {
      "cell_type": "code",
      "metadata": {
        "colab": {
          "base_uri": "https://localhost:8080/"
        },
        "id": "W-QCLHy9mY0G",
        "outputId": "f1f6e6ce-059b-4d71-ce0a-64088ede3dcf"
      },
      "source": [
        " #These are the true positives (= 470), since they are taken directly from the original dataset.\n",
        "print(yband1_5.value_counts())"
      ],
      "execution_count": null,
      "outputs": [
        {
          "output_type": "stream",
          "name": "stdout",
          "text": [
            "False    3397\n",
            "True     1038\n",
            "Name: Class, dtype: int64\n"
          ]
        }
      ]
    },
    {
      "cell_type": "code",
      "metadata": {
        "colab": {
          "base_uri": "https://localhost:8080/"
        },
        "id": "TBnk1VBjqXRP",
        "outputId": "d5505b83-92ab-4458-f3c3-d66c78cbeae6"
      },
      "source": [
        "detect1 = pd.DataFrame(detect1) #These are the False positives (taken from the SGDClassifier)\n",
        "detect2 = pd.DataFrame(detect2)\n",
        "detect3 = pd.DataFrame(detect3)\n",
        "detect4 = pd.DataFrame(detect4)\n",
        "\n",
        "print(detect1.value_counts(), '\\n')\n",
        "print(detect2.value_counts(), '\\n')\n",
        "print(detect3.value_counts(), '\\n')\n",
        "print(detect4.value_counts(), '\\n')"
      ],
      "execution_count": null,
      "outputs": [
        {
          "output_type": "stream",
          "name": "stdout",
          "text": [
            "False    3369\n",
            "True     1066\n",
            "dtype: int64 \n",
            "\n",
            "False    3311\n",
            "True     1124\n",
            "dtype: int64 \n",
            "\n",
            "False    3377\n",
            "True     1058\n",
            "dtype: int64 \n",
            "\n",
            "False    3375\n",
            "True     1060\n",
            "dtype: int64 \n",
            "\n"
          ]
        }
      ]
    },
    {
      "cell_type": "code",
      "metadata": {
        "colab": {
          "base_uri": "https://localhost:8080/"
        },
        "id": "PAlT5w1aFCTV",
        "outputId": "6908e708-5027-4826-b535-39d03766fc7a"
      },
      "source": [
        "from sklearn.metrics import precision_score\n",
        "precision_score(yband1_5, detect1) # = 470 / (470 + 334)"
      ],
      "execution_count": null,
      "outputs": [
        {
          "output_type": "execute_result",
          "data": {
            "text/plain": [
              "0.9193245778611632"
            ]
          },
          "metadata": {},
          "execution_count": 93
        }
      ]
    },
    {
      "cell_type": "code",
      "metadata": {
        "colab": {
          "base_uri": "https://localhost:8080/"
        },
        "id": "mZc_8RNljRpX",
        "outputId": "b44b408b-b089-481f-eed9-eac0fcfab6be"
      },
      "source": [
        "precision_score(yband2_5, detect2)"
      ],
      "execution_count": null,
      "outputs": [
        {
          "output_type": "execute_result",
          "data": {
            "text/plain": [
              "0.8096085409252669"
            ]
          },
          "metadata": {},
          "execution_count": 94
        }
      ]
    },
    {
      "cell_type": "code",
      "metadata": {
        "colab": {
          "base_uri": "https://localhost:8080/"
        },
        "id": "r6DEArIojTCY",
        "outputId": "e9906ccf-4092-47a3-c7e7-bfc6eba347cb"
      },
      "source": [
        "precision_score(yband3_5, detect3)"
      ],
      "execution_count": null,
      "outputs": [
        {
          "output_type": "execute_result",
          "data": {
            "text/plain": [
              "0.941398865784499"
            ]
          },
          "metadata": {},
          "execution_count": 95
        }
      ]
    },
    {
      "cell_type": "code",
      "metadata": {
        "colab": {
          "base_uri": "https://localhost:8080/"
        },
        "id": "rwb89eJ6jTPh",
        "outputId": "c48af48e-7fff-4d96-f878-948db588d89a"
      },
      "source": [
        "precision_score(yband4_5, detect4)"
      ],
      "execution_count": null,
      "outputs": [
        {
          "output_type": "execute_result",
          "data": {
            "text/plain": [
              "0.9424528301886792"
            ]
          },
          "metadata": {},
          "execution_count": 96
        }
      ]
    },
    {
      "cell_type": "code",
      "metadata": {
        "colab": {
          "base_uri": "https://localhost:8080/"
        },
        "id": "vQpkkUQHtMHk",
        "outputId": "f0b8fb06-c3c8-432a-b51c-18c7336a5ba3"
      },
      "source": [
        "from sklearn.metrics import recall_score\n",
        "recall_score(yband1_5, y_train_pred1) # = 470 / (470 + [4101 - 3965])"
      ],
      "execution_count": null,
      "outputs": [
        {
          "output_type": "execute_result",
          "data": {
            "text/plain": [
              "0.9026974951830443"
            ]
          },
          "metadata": {},
          "execution_count": 97
        }
      ]
    },
    {
      "cell_type": "code",
      "metadata": {
        "colab": {
          "base_uri": "https://localhost:8080/"
        },
        "id": "-U2X1E4bjvlj",
        "outputId": "44e9e9d6-4b91-4a53-a2c6-95660198ed6c"
      },
      "source": [
        "recall_score(yband2_5, y_train_pred2) "
      ],
      "execution_count": null,
      "outputs": [
        {
          "output_type": "execute_result",
          "data": {
            "text/plain": [
              "0.8265895953757225"
            ]
          },
          "metadata": {},
          "execution_count": 98
        }
      ]
    },
    {
      "cell_type": "code",
      "metadata": {
        "colab": {
          "base_uri": "https://localhost:8080/"
        },
        "id": "5-qvX-7qjvx6",
        "outputId": "82d01b2e-5e88-4383-e96a-e153442abf62"
      },
      "source": [
        "recall_score(yband3_5, y_train_pred3) "
      ],
      "execution_count": null,
      "outputs": [
        {
          "output_type": "execute_result",
          "data": {
            "text/plain": [
              "0.9383429672447013"
            ]
          },
          "metadata": {},
          "execution_count": 99
        }
      ]
    },
    {
      "cell_type": "code",
      "metadata": {
        "colab": {
          "base_uri": "https://localhost:8080/"
        },
        "id": "8C6qItW5jv7L",
        "outputId": "40c9d83c-9925-45f6-f7ff-a6a97705c44e"
      },
      "source": [
        "recall_score(yband4_5, y_train_pred4) "
      ],
      "execution_count": null,
      "outputs": [
        {
          "output_type": "execute_result",
          "data": {
            "text/plain": [
              "0.9373795761078998"
            ]
          },
          "metadata": {},
          "execution_count": 100
        }
      ]
    },
    {
      "cell_type": "code",
      "metadata": {
        "colab": {
          "base_uri": "https://localhost:8080/"
        },
        "id": "ZYe_JI74vuz7",
        "outputId": "015158e8-ffaf-4d25-80c7-69488d7db530"
      },
      "source": [
        "from sklearn.metrics import f1_score\n",
        "f1_score(yband1_5, detect1)"
      ],
      "execution_count": null,
      "outputs": [
        {
          "output_type": "execute_result",
          "data": {
            "text/plain": [
              "0.9315589353612168"
            ]
          },
          "metadata": {},
          "execution_count": 101
        }
      ]
    },
    {
      "cell_type": "code",
      "metadata": {
        "colab": {
          "base_uri": "https://localhost:8080/"
        },
        "id": "_dYfA03CkDKf",
        "outputId": "2abd258c-6c29-4f7c-c7e1-564221737164"
      },
      "source": [
        "f1_score(yband2_5, detect2)"
      ],
      "execution_count": null,
      "outputs": [
        {
          "output_type": "execute_result",
          "data": {
            "text/plain": [
              "0.8418131359851989"
            ]
          },
          "metadata": {},
          "execution_count": 102
        }
      ]
    },
    {
      "cell_type": "code",
      "metadata": {
        "colab": {
          "base_uri": "https://localhost:8080/"
        },
        "id": "pUDRSGXukDvI",
        "outputId": "9613b936-3ed1-4869-b76b-7ae39ad0f346"
      },
      "source": [
        "f1_score(yband3_5, detect3)"
      ],
      "execution_count": null,
      "outputs": [
        {
          "output_type": "execute_result",
          "data": {
            "text/plain": [
              "0.950381679389313"
            ]
          },
          "metadata": {},
          "execution_count": 103
        }
      ]
    },
    {
      "cell_type": "code",
      "metadata": {
        "colab": {
          "base_uri": "https://localhost:8080/"
        },
        "id": "9wx05MfqkD8x",
        "outputId": "e923de12-207a-4581-e05b-04de8a20899b"
      },
      "source": [
        "f1_score(yband4_5, detect4)"
      ],
      "execution_count": null,
      "outputs": [
        {
          "output_type": "execute_result",
          "data": {
            "text/plain": [
              "0.9523355576739752"
            ]
          },
          "metadata": {},
          "execution_count": 104
        }
      ]
    },
    {
      "cell_type": "code",
      "metadata": {
        "id": "9u84DK1jJ_NI"
      },
      "source": [
        "y_scores1 = cross_val_predict(sgd_clf1, band_01, yband1_5, cv=3, method=\"decision_function\")\n",
        "y_scores2 = cross_val_predict(sgd_clf2, band_02, yband2_5, cv=3, method=\"decision_function\")\n",
        "y_scores3 = cross_val_predict(sgd_clf3, band_03, yband3_5, cv=3, method=\"decision_function\")\n",
        "y_scores4 = cross_val_predict(sgd_clf4, band_04, yband4_5, cv=3, method=\"decision_function\")"
      ],
      "execution_count": null,
      "outputs": []
    },
    {
      "cell_type": "code",
      "metadata": {
        "id": "SoE8-fY6KfjR"
      },
      "source": [
        "from sklearn.metrics import precision_recall_curve\n",
        "precisions1, recalls1, thresholds1 = precision_recall_curve(yband1_5, y_scores1)\n",
        "precisions2, recalls2, thresholds2 = precision_recall_curve(yband2_5, y_scores2)\n",
        "precisions3, recalls3, thresholds3 = precision_recall_curve(yband3_5, y_scores3)\n",
        "precisions4, recalls4, thresholds4 = precision_recall_curve(yband4_5, y_scores4)"
      ],
      "execution_count": null,
      "outputs": []
    },
    {
      "cell_type": "code",
      "metadata": {
        "id": "FtlSYZq9K8xQ"
      },
      "source": [
        "def plot_precision_recall_vs_threshold(precisions, recalls, thresholds):\n",
        "  plt.plot(thresholds, precisions[:-1], \"b--\", label='Precision')\n",
        "  plt.plot(thresholds, recalls[:-1], 'g-', label='Recall')\n",
        "  plt.xlabel('Threshold')\n",
        "  plt.legend(loc='upper left')\n",
        "  plt.ylim([0,1])"
      ],
      "execution_count": null,
      "outputs": []
    },
    {
      "cell_type": "code",
      "metadata": {
        "colab": {
          "base_uri": "https://localhost:8080/",
          "height": 1000
        },
        "id": "prlV9p0HNg74",
        "outputId": "cced728a-82c4-4ea9-da7c-b6511fe19b68"
      },
      "source": [
        "plot_precision_recall_vs_threshold(precisions1, recalls1, thresholds1)\n",
        "plt.show()\n",
        "plot_precision_recall_vs_threshold(precisions2, recalls2, thresholds2)\n",
        "plt.show()\n",
        "plot_precision_recall_vs_threshold(precisions3, recalls3, thresholds3)\n",
        "plt.show()\n",
        "plot_precision_recall_vs_threshold(precisions4, recalls4, thresholds4)\n",
        "plt.show()"
      ],
      "execution_count": null,
      "outputs": [
        {
          "output_type": "display_data",
          "data": {
            "text/plain": [
              "<Figure size 640x480 with 1 Axes>"
            ],
            "image/png": "[encoded data removed]"
          },
          "metadata": {}
        },
        {
          "output_type": "display_data",
          "data": {
            "text/plain": [
              "<Figure size 640x480 with 1 Axes>"
            ],
            "image/png": "[encoded data removed]"
          },
          "metadata": {}
        },
        {
          "output_type": "display_data",
          "data": {
            "text/plain": [
              "<Figure size 640x480 with 1 Axes>"
            ],
            "image/png": "[encoded data removed]"
          },
          "metadata": {}
        },
        {
          "output_type": "display_data",
          "data": {
            "text/plain": [
              "<Figure size 640x480 with 1 Axes>"
            ],
            "image/png": "[encoded data removed]"
          },
          "metadata": {}
        }
      ]
    },
    {
      "cell_type": "code",
      "metadata": {
        "id": "cC-lVUS2a1A2"
      },
      "source": [
        "def plot_precision_vs_recall(precisions, recalls):\n",
        "  plt.plot(recalls[:-1], precisions[:-1], \"b-\")\n",
        "  plt.xlabel('Recall')\n",
        "  plt.ylabel('Precision')\n",
        "  plt.ylim([0,1])"
      ],
      "execution_count": null,
      "outputs": []
    },
    {
      "cell_type": "code",
      "metadata": {
        "colab": {
          "base_uri": "https://localhost:8080/",
          "height": 1000
        },
        "id": "xokgZRupbgFs",
        "outputId": "63d29306-e2ed-49a6-b597-3f2dbdb32578"
      },
      "source": [
        "plot_precision_vs_recall(precisions1, recalls1)\n",
        "plt.show()\n",
        "plot_precision_vs_recall(precisions2, recalls2)\n",
        "plt.show()\n",
        "plot_precision_vs_recall(precisions3, recalls3)\n",
        "plt.show()\n",
        "plot_precision_vs_recall(precisions4, recalls4)\n",
        "plt.show()"
      ],
      "execution_count": null,
      "outputs": [
        {
          "output_type": "display_data",
          "data": {
            "text/plain": [
              "<Figure size 640x480 with 1 Axes>"
            ],
            "image/png": "[encoded data removed]"
          },
          "metadata": {}
        },
        {
          "output_type": "display_data",
          "data": {
            "text/plain": [
              "<Figure size 640x480 with 1 Axes>"
            ],
            "image/png": "[encoded data removed]"
          },
          "metadata": {}
        },
        {
          "output_type": "display_data",
          "data": {
            "text/plain": [
              "<Figure size 640x480 with 1 Axes>"
            ],
            "image/png": "[encoded data removed]"
          },
          "metadata": {}
        },
        {
          "output_type": "display_data",
          "data": {
            "text/plain": [
              "<Figure size 640x480 with 1 Axes>"
            ],
            "image/png": "[encoded data removed]"
          },
          "metadata": {}
        }
      ]
    },
    {
      "cell_type": "markdown",
      "metadata": {
        "id": "zsc16fbXl9Wd"
      },
      "source": [
        "This is very bad precision and recall. A 0.20 precision and recall is pure randomness, considering that we are sarching for one class among five (that is 0.2/1.0)"
      ]
    },
    {
      "cell_type": "markdown",
      "metadata": {
        "id": "hKtt9WyY_NSp"
      },
      "source": [
        "## The ROC Curve"
      ]
    },
    {
      "cell_type": "code",
      "metadata": {
        "id": "58efi959_MiI"
      },
      "source": [
        "from sklearn.metrics import roc_curve\n",
        "\n",
        "fpr1, tpr1, thresholds1 = roc_curve(yband1_5, y_scores1)\n",
        "fpr2, tpr2, thresholds2 = roc_curve(yband2_5, y_scores2)\n",
        "fpr3, tpr3, thresholds3 = roc_curve(yband3_5, y_scores3)\n",
        "fpr4, tpr4, thresholds4 = roc_curve(yband4_5, y_scores4)"
      ],
      "execution_count": null,
      "outputs": []
    },
    {
      "cell_type": "code",
      "metadata": {
        "id": "PP5f9dFm_-Wk"
      },
      "source": [
        "def plot_roc_curve(fpr, tpr, label=None):\n",
        "  plt.plot(fpr, tpr, linewidth=2, label=label)\n",
        "  plt.plot([0,1],[0,1], 'k--')\n",
        "  plt.axis([0, 1, 0, 1])\n",
        "  plt.xlabel('False Positive Rate')\n",
        "  plt.ylabel('True Positive Rate')"
      ],
      "execution_count": null,
      "outputs": []
    },
    {
      "cell_type": "code",
      "metadata": {
        "colab": {
          "base_uri": "https://localhost:8080/",
          "height": 1000
        },
        "id": "cIIRLOt0BSGY",
        "outputId": "a676d327-748b-4b82-b060-f38f769fa921"
      },
      "source": [
        "plot_roc_curve(fpr1, tpr1)\n",
        "plt.show()\n",
        "plot_roc_curve(fpr2, tpr2)\n",
        "plt.show()\n",
        "plot_roc_curve(fpr3, tpr3)\n",
        "plt.show()\n",
        "plot_roc_curve(fpr4, tpr4)\n",
        "plt.show()"
      ],
      "execution_count": null,
      "outputs": [
        {
          "output_type": "display_data",
          "data": {
            "text/plain": [
              "<Figure size 640x480 with 1 Axes>"
            ],
            "image/png": "[encoded data removed]"
          },
          "metadata": {}
        },
        {
          "output_type": "display_data",
          "data": {
            "text/plain": [
              "<Figure size 640x480 with 1 Axes>"
            ],
            "image/png": "[encoded data removed]"
          },
          "metadata": {}
        },
        {
          "output_type": "display_data",
          "data": {
            "text/plain": [
              "<Figure size 640x480 with 1 Axes>"
            ],
            "image/png": "[encoded data removed]"
          },
          "metadata": {}
        },
        {
          "output_type": "display_data",
          "data": {
            "text/plain": [
              "<Figure size 640x480 with 1 Axes>"
            ],
            "image/png": "[encoded data removed]"
          },
          "metadata": {}
        }
      ]
    },
    {
      "cell_type": "markdown",
      "metadata": {
        "id": "0jBXBtGaDPeF"
      },
      "source": [
        "To evaluate the ROC curve, we measure the area under the curve (AUC). If it is 1.0, it is perfect; if it is 0.5 it is purely random."
      ]
    },
    {
      "cell_type": "code",
      "metadata": {
        "colab": {
          "base_uri": "https://localhost:8080/"
        },
        "id": "8Q68fUC7C3wX",
        "outputId": "6f33e052-7979-490b-9e3b-ed01a43b73c5"
      },
      "source": [
        "from sklearn.metrics import roc_auc_score\n",
        "roc_auc_score(yband1_5, y_scores1)"
      ],
      "execution_count": null,
      "outputs": [
        {
          "output_type": "execute_result",
          "data": {
            "text/plain": [
              "0.992794276713614"
            ]
          },
          "metadata": {},
          "execution_count": 114
        }
      ]
    },
    {
      "cell_type": "code",
      "metadata": {
        "colab": {
          "base_uri": "https://localhost:8080/"
        },
        "id": "8-UqBMGpDhQU",
        "outputId": "5e059d27-e3e5-4171-8cb0-df751745b358"
      },
      "source": [
        "roc_auc_score(yband2_5, y_scores2)"
      ],
      "execution_count": null,
      "outputs": [
        {
          "output_type": "execute_result",
          "data": {
            "text/plain": [
              "0.9675251823126265"
            ]
          },
          "metadata": {},
          "execution_count": 115
        }
      ]
    },
    {
      "cell_type": "code",
      "metadata": {
        "colab": {
          "base_uri": "https://localhost:8080/"
        },
        "id": "NwtHRFHnDkVO",
        "outputId": "3acb8153-4462-4484-dfab-247f26509b2a"
      },
      "source": [
        "roc_auc_score(yband3_5, y_scores3)"
      ],
      "execution_count": null,
      "outputs": [
        {
          "output_type": "execute_result",
          "data": {
            "text/plain": [
              "0.9962794441201944"
            ]
          },
          "metadata": {},
          "execution_count": 116
        }
      ]
    },
    {
      "cell_type": "code",
      "metadata": {
        "colab": {
          "base_uri": "https://localhost:8080/"
        },
        "id": "jN-BaxM_Do8C",
        "outputId": "ced2cb1a-21f4-41c6-ffd5-45747ed6696c"
      },
      "source": [
        "roc_auc_score(yband4_5, y_scores4)"
      ],
      "execution_count": null,
      "outputs": [
        {
          "output_type": "execute_result",
          "data": {
            "text/plain": [
              "0.9949649554775465"
            ]
          },
          "metadata": {},
          "execution_count": 117
        }
      ]
    },
    {
      "cell_type": "code",
      "metadata": {
        "id": "RQgqSvwJHLer"
      },
      "source": [
        "from sklearn.ensemble import RandomForestClassifier\n",
        "\n",
        "forest_clf = RandomForestClassifier(random_state=42)\n",
        "y_probas_forest1 = cross_val_predict(forest_clf, band_01, yband1_5, cv=3, method='predict_proba')\n",
        "y_probas_forest2 = cross_val_predict(forest_clf, band_02, yband2_5, cv=3, method='predict_proba')\n",
        "y_probas_forest3 = cross_val_predict(forest_clf, band_03, yband3_5, cv=3, method='predict_proba')\n",
        "y_probas_forest4 = cross_val_predict(forest_clf, band_04, yband4_5, cv=3, method='predict_proba')"
      ],
      "execution_count": null,
      "outputs": []
    },
    {
      "cell_type": "code",
      "metadata": {
        "id": "Swu66JY4IPnE"
      },
      "source": [
        "y_scores_forest1 = y_probas_forest1[:, 1] # score = proba of positive class\n",
        "y_scores_forest2 = y_probas_forest2[:, 1]\n",
        "y_scores_forest3 = y_probas_forest3[:, 1]\n",
        "y_scores_forest4 = y_probas_forest4[:, 1]"
      ],
      "execution_count": null,
      "outputs": []
    },
    {
      "cell_type": "code",
      "metadata": {
        "colab": {
          "base_uri": "https://localhost:8080/"
        },
        "id": "OzJZeJUsJ75k",
        "outputId": "8940f058-623c-47e7-9293-18cd7574a794"
      },
      "source": [
        "y_scores_forest1"
      ],
      "execution_count": null,
      "outputs": [
        {
          "output_type": "execute_result",
          "data": {
            "text/plain": [
              "array([0.  , 0.  , 0.  , ..., 0.  , 0.  , 0.02])"
            ]
          },
          "metadata": {},
          "execution_count": 120
        }
      ]
    },
    {
      "cell_type": "code",
      "metadata": {
        "id": "DA6FdPgzJtKs"
      },
      "source": [
        "fpr_forest1, tpr_forest1, thresholds_forest1 = roc_curve(yband1_5, y_scores_forest1)\n",
        "fpr_forest2, tpr_forest2, thresholds_forest2 = roc_curve(yband2_5, y_scores_forest2)\n",
        "fpr_forest3, tpr_forest3, thresholds_forest3 = roc_curve(yband3_5, y_scores_forest3)\n",
        "fpr_forest4, tpr_forest4, thresholds_forest4 = roc_curve(yband4_5, y_scores_forest4)"
      ],
      "execution_count": null,
      "outputs": []
    },
    {
      "cell_type": "code",
      "metadata": {
        "colab": {
          "base_uri": "https://localhost:8080/",
          "height": 1000
        },
        "id": "59mJ9h8-Op3A",
        "outputId": "745cac2c-5774-48a1-db82-324efe2b0182"
      },
      "source": [
        "plt.plot(fpr1, tpr1, 'b:', label='SGD')\n",
        "plot_roc_curve(fpr_forest1, tpr_forest1, 'Random Forest')\n",
        "plt.legend(loc='lower right')\n",
        "plt.show()\n",
        "\n",
        "plt.plot(fpr2, tpr2, 'b:', label='SGD')\n",
        "plot_roc_curve(fpr_forest2, tpr_forest2, 'Random Forest')\n",
        "plt.legend(loc='lower right')\n",
        "plt.show()\n",
        "\n",
        "plt.plot(fpr3, tpr3, 'b:', label='SGD')\n",
        "plot_roc_curve(fpr_forest3, tpr_forest3, 'Random Forest')\n",
        "plt.legend(loc='lower right')\n",
        "plt.show()\n",
        "\n",
        "plt.plot(fpr4, tpr4, 'b:', label='SGD')\n",
        "plot_roc_curve(fpr_forest4, tpr_forest4, 'Random Forest')\n",
        "plt.legend(loc='lower right')\n",
        "plt.show()"
      ],
      "execution_count": null,
      "outputs": [
        {
          "output_type": "display_data",
          "data": {
            "text/plain": [
              "<Figure size 640x480 with 1 Axes>"
            ],
            "image/png": "[encoded data removed]"
          },
          "metadata": {}
        },
        {
          "output_type": "display_data",
          "data": {
            "text/plain": [
              "<Figure size 640x480 with 1 Axes>"
            ],
            "image/png": "[encoded data removed]"
          },
          "metadata": {}
        },
        {
          "output_type": "display_data",
          "data": {
            "text/plain": [
              "<Figure size 640x480 with 1 Axes>"
            ],
            "image/png": "[encoded data removed]"
          },
          "metadata": {}
        },
        {
          "output_type": "display_data",
          "data": {
            "text/plain": [
              "<Figure size 640x480 with 1 Axes>"
            ],
            "image/png": "[encoded data removed]"
          },
          "metadata": {}
        }
      ]
    },
    {
      "cell_type": "markdown",
      "metadata": {
        "id": "B7jcESzjhjl7"
      },
      "source": [
        "## Multiclass Classification"
      ]
    },
    {
      "cell_type": "code",
      "metadata": {
        "id": "WvzwQ27dmkHx"
      },
      "source": [
        "y_train = band_01[:,-1]"
      ],
      "execution_count": null,
      "outputs": []
    },
    {
      "cell_type": "code",
      "metadata": {
        "colab": {
          "base_uri": "https://localhost:8080/"
        },
        "id": "lzxCHbPCsSCB",
        "outputId": "0902e6be-b50f-46ad-9677-f5b3341c4445"
      },
      "source": [
        "band_01"
      ],
      "execution_count": null,
      "outputs": [
        {
          "output_type": "execute_result",
          "data": {
            "text/plain": [
              "array([[92, 84, 84, ..., 88, 84,  3],\n",
              "       [84, 84, 80, ..., 84, 84,  3],\n",
              "       [84, 80, 84, ..., 84, 84,  3],\n",
              "       ...,\n",
              "       [68, 71, 71, ..., 63, 70,  4],\n",
              "       [71, 71, 76, ..., 70, 70,  4],\n",
              "       [71, 76, 80, ..., 70, 63,  4]])"
            ]
          },
          "metadata": {},
          "execution_count": 124
        }
      ]
    },
    {
      "cell_type": "code",
      "metadata": {
        "id": "V026Iq0fq89N"
      },
      "source": [
        "df_band1 = df[['top_left1', 'top_center1', 'top_right1', \n",
        "                 'middle_left1', 'middle_center1', 'middle_right1',\n",
        "                 'bottom_left1', 'bottom_center1', 'bottom_right1']].astype('int')\n",
        "df_band2 = df[['top_left2', 'top_center2', 'top_right2', \n",
        "                 'middle_left2', 'middle_center2', 'middle_right2', \n",
        "                 'bottom_left2', 'bottom_center2', 'bottom_right2']].astype('int')\n",
        "df_band3 = df[['top_left3', 'top_center3', 'top_right3', \n",
        "                 'middle_left3', 'middle_center3', 'middle_right3', \n",
        "                 'bottom_left3', 'bottom_center3', 'bottom_right3']].astype('int')\n",
        "df_band4 = df[['top_left4', 'top_center4', 'top_right4', \n",
        "                 'middle_left4', 'middle_center4', 'middle_right4', \n",
        "                 'bottom_left4', 'bottom_center4', 'bottom_right4']].astype('int')"
      ],
      "execution_count": null,
      "outputs": []
    },
    {
      "cell_type": "code",
      "metadata": {
        "colab": {
          "base_uri": "https://localhost:8080/"
        },
        "id": "28MvD2HhqgGL",
        "outputId": "cc9c2b61-f5b3-4485-ede1-ec603154a39b"
      },
      "source": [
        "df_band1[0:1]"
      ],
      "execution_count": null,
      "outputs": [
        {
          "output_type": "execute_result",
          "data": {
            "text/plain": [
              "   top_left1  top_center1  top_right1  middle_left1  middle_center1  \\\n",
              "0         92           84          84           101              92   \n",
              "\n",
              "   middle_right1  bottom_left1  bottom_center1  bottom_right1  \n",
              "0             84           102              88             84  "
            ],
            "text/html": [
              "\n",
              "  <div id=\"df-eda20404-0568-42af-a8db-453fd59465d9\">\n",
              "    <div class=\"colab-df-container\">\n",
              "      <div>\n",
              "<style scoped>\n",
              "    .dataframe tbody tr th:only-of-type {\n",
              "        vertical-align: middle;\n",
              "    }\n",
              "\n",
              "    .dataframe tbody tr th {\n",
              "        vertical-align: top;\n",
              "    }\n",
              "\n",
              "    .dataframe thead th {\n",
              "        text-align: right;\n",
              "    }\n",
              "</style>\n",
              "<table border=\"1\" class=\"dataframe\">\n",
              "  <thead>\n",
              "    <tr style=\"text-align: right;\">\n",
              "      <th></th>\n",
              "      <th>top_left1</th>\n",
              "      <th>top_center1</th>\n",
              "      <th>top_right1</th>\n",
              "      <th>middle_left1</th>\n",
              "      <th>middle_center1</th>\n",
              "      <th>middle_right1</th>\n",
              "      <th>bottom_left1</th>\n",
              "      <th>bottom_center1</th>\n",
              "      <th>bottom_right1</th>\n",
              "    </tr>\n",
              "  </thead>\n",
              "  <tbody>\n",
              "    <tr>\n",
              "      <th>0</th>\n",
              "      <td>92</td>\n",
              "      <td>84</td>\n",
              "      <td>84</td>\n",
              "      <td>101</td>\n",
              "      <td>92</td>\n",
              "      <td>84</td>\n",
              "      <td>102</td>\n",
              "      <td>88</td>\n",
              "      <td>84</td>\n",
              "    </tr>\n",
              "  </tbody>\n",
              "</table>\n",
              "</div>\n",
              "      <button class=\"colab-df-convert\" onclick=\"convertToInteractive('df-eda20404-0568-42af-a8db-453fd59465d9')\"\n",
              "              title=\"Convert this dataframe to an interactive table.\"\n",
              "              style=\"display:none;\">\n",
              "        \n",
              "  <svg xmlns=\"http://www.w3.org/2000/svg\" height=\"24px\"viewBox=\"0 0 24 24\"\n",
              "       width=\"24px\">\n",
              "    <path d=\"M0 0h24v24H0V0z\" fill=\"none\"/>\n",
              "    <path d=\"M18.56 5.44l.94 2.06.94-2.06 2.06-.94-2.06-.94-.94-2.06-.94 2.06-2.06.94zm-11 1L8.5 8.5l.94-2.06 2.06-.94-2.06-.94L8.5 2.5l-.94 2.06-2.06.94zm10 10l.94 2.06.94-2.06 2.06-.94-2.06-.94-.94-2.06-.94 2.06-2.06.94z\"/><path d=\"M17.41 7.96l-1.37-1.37c-.4-.4-.92-.59-1.43-.59-.52 0-1.04.2-1.43.59L10.3 9.45l-7.72 7.72c-.78.78-.78 2.05 0 2.83L4 21.41c.39.39.9.59 1.41.59.51 0 1.02-.2 1.41-.59l7.78-7.78 2.81-2.81c.8-.78.8-2.07 0-2.86zM5.41 20L4 18.59l7.72-7.72 1.47 1.35L5.41 20z\"/>\n",
              "  </svg>\n",
              "      </button>\n",
              "      \n",
              "  <style>\n",
              "    .colab-df-container {\n",
              "      display:flex;\n",
              "      flex-wrap:wrap;\n",
              "      gap: 12px;\n",
              "    }\n",
              "\n",
              "    .colab-df-convert {\n",
              "      background-color: #E8F0FE;\n",
              "      border: none;\n",
              "      border-radius: 50%;\n",
              "      cursor: pointer;\n",
              "      display: none;\n",
              "      fill: #1967D2;\n",
              "      height: 32px;\n",
              "      padding: 0 0 0 0;\n",
              "      width: 32px;\n",
              "    }\n",
              "\n",
              "    .colab-df-convert:hover {\n",
              "      background-color: #E2EBFA;\n",
              "      box-shadow: 0px 1px 2px rgba(60, 64, 67, 0.3), 0px 1px 3px 1px rgba(60, 64, 67, 0.15);\n",
              "      fill: #174EA6;\n",
              "    }\n",
              "\n",
              "    [theme=dark] .colab-df-convert {\n",
              "      background-color: #3B4455;\n",
              "      fill: #D2E3FC;\n",
              "    }\n",
              "\n",
              "    [theme=dark] .colab-df-convert:hover {\n",
              "      background-color: #434B5C;\n",
              "      box-shadow: 0px 1px 3px 1px rgba(0, 0, 0, 0.15);\n",
              "      filter: drop-shadow(0px 1px 2px rgba(0, 0, 0, 0.3));\n",
              "      fill: #FFFFFF;\n",
              "    }\n",
              "  </style>\n",
              "\n",
              "      <script>\n",
              "        const buttonEl =\n",
              "          document.querySelector('#df-eda20404-0568-42af-a8db-453fd59465d9 button.colab-df-convert');\n",
              "        buttonEl.style.display =\n",
              "          google.colab.kernel.accessAllowed ? 'block' : 'none';\n",
              "\n",
              "        async function convertToInteractive(key) {\n",
              "          const element = document.querySelector('#df-eda20404-0568-42af-a8db-453fd59465d9');\n",
              "          const dataTable =\n",
              "            await google.colab.kernel.invokeFunction('convertToInteractive',\n",
              "                                                     [key], {});\n",
              "          if (!dataTable) return;\n",
              "\n",
              "          const docLinkHtml = 'Like what you see? Visit the ' +\n",
              "            '<a target=\"_blank\" href=https://colab.research.google.com/notebooks/data_table.ipynb>data table notebook</a>'\n",
              "            + ' to learn more about interactive tables.';\n",
              "          element.innerHTML = '';\n",
              "          dataTable['output_type'] = 'display_data';\n",
              "          await google.colab.output.renderOutput(dataTable, element);\n",
              "          const docLink = document.createElement('div');\n",
              "          docLink.innerHTML = docLinkHtml;\n",
              "          element.appendChild(docLink);\n",
              "        }\n",
              "      </script>\n",
              "    </div>\n",
              "  </div>\n",
              "  "
            ]
          },
          "metadata": {},
          "execution_count": 127
        }
      ]
    },
    {
      "cell_type": "code",
      "metadata": {
        "colab": {
          "base_uri": "https://localhost:8080/"
        },
        "id": "ekb-1c2RpDWH",
        "outputId": "a838d732-6dc1-470b-c690-9ca4fba52a55"
      },
      "source": [
        "dfs1 = []\n",
        "for i in range(0,len(df_band1)):\n",
        "  line = df_band1.iloc[i:i+1].to_numpy()\n",
        "  dfs1.append(line)\n",
        "dfs1[0]"
      ],
      "execution_count": null,
      "outputs": [
        {
          "output_type": "execute_result",
          "data": {
            "text/plain": [
              "array([[ 92,  84,  84, 101,  92,  84, 102,  88,  84]])"
            ]
          },
          "metadata": {},
          "execution_count": 128
        }
      ]
    },
    {
      "cell_type": "code",
      "metadata": {
        "colab": {
          "base_uri": "https://localhost:8080/"
        },
        "id": "L_h1Dow3pnxn",
        "outputId": "2ba8685b-c350-493a-e4c6-e31013f81dde"
      },
      "source": [
        "band_01[0,-1]"
      ],
      "execution_count": null,
      "outputs": [
        {
          "output_type": "execute_result",
          "data": {
            "text/plain": [
              "3"
            ]
          },
          "metadata": {},
          "execution_count": 129
        }
      ]
    },
    {
      "cell_type": "code",
      "metadata": {
        "colab": {
          "base_uri": "https://localhost:8080/"
        },
        "id": "unQ5c_8dhphu",
        "outputId": "c13c300a-8c2f-4c3c-a1fd-65ac500f3ae9"
      },
      "source": [
        "sgd_clf1.fit(df_band1, y_train)\n",
        "sgd_clf1.predict(dfs1[0])"
      ],
      "execution_count": null,
      "outputs": [
        {
          "output_type": "stream",
          "name": "stderr",
          "text": [
            "/usr/local/lib/python3.10/dist-packages/sklearn/base.py:439: UserWarning: X does not have valid feature names, but SGDClassifier was fitted with feature names\n",
            "  warnings.warn(\n"
          ]
        },
        {
          "output_type": "execute_result",
          "data": {
            "text/plain": [
              "array([3])"
            ]
          },
          "metadata": {},
          "execution_count": 130
        }
      ]
    },
    {
      "cell_type": "code",
      "metadata": {
        "colab": {
          "base_uri": "https://localhost:8080/"
        },
        "id": "mujaCaf39OVC",
        "outputId": "80875b12-1a2b-46c1-f408-59270e1c48de"
      },
      "source": [
        "dfs1_scores = sgd_clf1.decision_function(dfs1[0])\n",
        "dfs1_scores #it displays all 6 classes"
      ],
      "execution_count": null,
      "outputs": [
        {
          "output_type": "stream",
          "name": "stderr",
          "text": [
            "/usr/local/lib/python3.10/dist-packages/sklearn/base.py:439: UserWarning: X does not have valid feature names, but SGDClassifier was fitted with feature names\n",
            "  warnings.warn(\n"
          ]
        },
        {
          "output_type": "execute_result",
          "data": {
            "text/plain": [
              "array([[-6.30831673e+02, -1.31824073e+03,  2.32212678e+02,\n",
              "         7.81336926e+00, -3.21478975e+02,  4.87605510e-01]])"
            ]
          },
          "metadata": {},
          "execution_count": 131
        }
      ]
    },
    {
      "cell_type": "code",
      "metadata": {
        "colab": {
          "base_uri": "https://localhost:8080/"
        },
        "id": "O6QYCez49vs3",
        "outputId": "312a4d80-74b3-4df4-dd82-588ebd6d2fe8"
      },
      "source": [
        "np.argmax(dfs1_scores) # Not really accurate"
      ],
      "execution_count": null,
      "outputs": [
        {
          "output_type": "execute_result",
          "data": {
            "text/plain": [
              "2"
            ]
          },
          "metadata": {},
          "execution_count": 132
        }
      ]
    },
    {
      "cell_type": "code",
      "metadata": {
        "colab": {
          "base_uri": "https://localhost:8080/"
        },
        "id": "d4VDkoD6-sw2",
        "outputId": "40d55079-b912-429b-b151-b487b2a89dc3"
      },
      "source": [
        "sgd_clf1.classes_"
      ],
      "execution_count": null,
      "outputs": [
        {
          "output_type": "execute_result",
          "data": {
            "text/plain": [
              "array([1, 2, 3, 4, 5, 7])"
            ]
          },
          "metadata": {},
          "execution_count": 133
        }
      ]
    },
    {
      "cell_type": "code",
      "metadata": {
        "colab": {
          "base_uri": "https://localhost:8080/"
        },
        "id": "ImKlkHBnBAWo",
        "outputId": "4b679049-27bd-4f26-c189-e0945a163c9a"
      },
      "source": [
        "sgd_clf1.classes_[5]"
      ],
      "execution_count": null,
      "outputs": [
        {
          "output_type": "execute_result",
          "data": {
            "text/plain": [
              "7"
            ]
          },
          "metadata": {},
          "execution_count": 134
        }
      ]
    },
    {
      "cell_type": "code",
      "metadata": {
        "colab": {
          "base_uri": "https://localhost:8080/"
        },
        "id": "Swkt8SE4ACxl",
        "outputId": "a871bf78-9c72-4967-f6f9-0161166ad884"
      },
      "source": [
        "from sklearn.multiclass import OneVsOneClassifier\n",
        "ovo_clf = OneVsOneClassifier(SGDClassifier(random_state=42)) # Trains a binary classifier for every pair of digits:\n",
        "ovo_clf.fit(df_band1, y_train)\n",
        "ovo_clf.predict(dfs1[0]) # Way better"
      ],
      "execution_count": null,
      "outputs": [
        {
          "output_type": "stream",
          "name": "stderr",
          "text": [
            "/usr/local/lib/python3.10/dist-packages/sklearn/base.py:439: UserWarning: X does not have valid feature names, but OneVsOneClassifier was fitted with feature names\n",
            "  warnings.warn(\n"
          ]
        },
        {
          "output_type": "execute_result",
          "data": {
            "text/plain": [
              "array([3])"
            ]
          },
          "metadata": {},
          "execution_count": 136
        }
      ]
    },
    {
      "cell_type": "code",
      "metadata": {
        "colab": {
          "base_uri": "https://localhost:8080/"
        },
        "id": "oQXdzInSA542",
        "outputId": "cbdd8a42-4007-4469-f7e8-8f409ad03c46"
      },
      "source": [
        "len(ovo_clf.estimators_)"
      ],
      "execution_count": null,
      "outputs": [
        {
          "output_type": "execute_result",
          "data": {
            "text/plain": [
              "15"
            ]
          },
          "metadata": {},
          "execution_count": 137
        }
      ]
    },
    {
      "cell_type": "code",
      "metadata": {
        "colab": {
          "base_uri": "https://localhost:8080/"
        },
        "id": "Ibz1Ge84Dwdm",
        "outputId": "aa197491-9d0f-46a6-fb47-68c4d412d02f"
      },
      "source": [
        "forest_clf.fit(df_band1, y_train)\n",
        "forest_clf.predict(dfs1[0])"
      ],
      "execution_count": null,
      "outputs": [
        {
          "output_type": "stream",
          "name": "stderr",
          "text": [
            "/usr/local/lib/python3.10/dist-packages/sklearn/base.py:439: UserWarning: X does not have valid feature names, but RandomForestClassifier was fitted with feature names\n",
            "  warnings.warn(\n"
          ]
        },
        {
          "output_type": "execute_result",
          "data": {
            "text/plain": [
              "array([3])"
            ]
          },
          "metadata": {},
          "execution_count": 139
        }
      ]
    },
    {
      "cell_type": "code",
      "metadata": {
        "colab": {
          "base_uri": "https://localhost:8080/"
        },
        "id": "NOBoeYnjDwzn",
        "outputId": "c82eacaa-0f5b-4bbd-b711-99e024ac0233"
      },
      "source": [
        "forest_clf.predict_proba(dfs1[0])"
      ],
      "execution_count": null,
      "outputs": [
        {
          "output_type": "stream",
          "name": "stderr",
          "text": [
            "/usr/local/lib/python3.10/dist-packages/sklearn/base.py:439: UserWarning: X does not have valid feature names, but RandomForestClassifier was fitted with feature names\n",
            "  warnings.warn(\n"
          ]
        },
        {
          "output_type": "execute_result",
          "data": {
            "text/plain": [
              "array([[0.  , 0.  , 0.92, 0.08, 0.  , 0.  ]])"
            ]
          },
          "metadata": {},
          "execution_count": 140
        }
      ]
    },
    {
      "cell_type": "code",
      "metadata": {
        "colab": {
          "base_uri": "https://localhost:8080/"
        },
        "id": "c8Gseb4DDyIi",
        "outputId": "86ec50fd-adb1-4c8d-8d08-30b2cf4e9d52"
      },
      "source": [
        "cross_val_score(sgd_clf1, df_band1, y_train, cv=3, scoring=\"accuracy\")"
      ],
      "execution_count": null,
      "outputs": [
        {
          "output_type": "execute_result",
          "data": {
            "text/plain": [
              "array([0.43407708, 0.63125846, 0.54939107])"
            ]
          },
          "metadata": {},
          "execution_count": 141
        }
      ]
    },
    {
      "cell_type": "code",
      "metadata": {
        "colab": {
          "base_uri": "https://localhost:8080/"
        },
        "id": "xyj4cjPzFPYQ",
        "outputId": "fdf0e542-9c1c-4f61-b79a-7994c62ff100"
      },
      "source": [
        "from sklearn.preprocessing import StandardScaler\n",
        "scaler = StandardScaler()\n",
        "X_train_scaled = scaler.fit_transform(df_band1.astype(np.float64))\n",
        "cross_val_score(sgd_clf1, X_train_scaled, y_train, cv=3, scoring=\"accuracy\")"
      ],
      "execution_count": null,
      "outputs": [
        {
          "output_type": "execute_result",
          "data": {
            "text/plain": [
              "array([0.57944557, 0.49188092, 0.49458728])"
            ]
          },
          "metadata": {},
          "execution_count": 142
        }
      ]
    },
    {
      "cell_type": "markdown",
      "metadata": {
        "id": "2bE7o5IYgjKN"
      },
      "source": [
        "## Multilabel Classification"
      ]
    },
    {
      "cell_type": "code",
      "metadata": {
        "colab": {
          "base_uri": "https://localhost:8080/",
          "height": 75
        },
        "id": "JiX2ZfPeZNcX",
        "outputId": "0d51e7c8-1646-438c-8377-30fd638993d5"
      },
      "source": [
        "from sklearn.neighbors import KNeighborsClassifier\n",
        "y_train_large = (y_train >= 7)\n",
        "y_train_odd = (y_train % 2 == 1)\n",
        "y_multilabel = np.c_[y_train_large, y_train_odd]\n",
        "knn_clf = KNeighborsClassifier()\n",
        "knn_clf.fit(df_band1, y_multilabel)"
      ],
      "execution_count": null,
      "outputs": [
        {
          "output_type": "execute_result",
          "data": {
            "text/plain": [
              "KNeighborsClassifier()"
            ],
            "text/html": [
              "<style>#sk-container-id-2 {color: black;background-color: white;}#sk-container-id-2 pre{padding: 0;}#sk-container-id-2 div.sk-toggleable {background-color: white;}#sk-container-id-2 label.sk-toggleable__label {cursor: pointer;display: block;width: 100%;margin-bottom: 0;padding: 0.3em;box-sizing: border-box;text-align: center;}#sk-container-id-2 label.sk-toggleable__label-arrow:before {content: \"▸\";float: left;margin-right: 0.25em;color: #696969;}#sk-container-id-2 label.sk-toggleable__label-arrow:hover:before {color: black;}#sk-container-id-2 div.sk-estimator:hover label.sk-toggleable__label-arrow:before {color: black;}#sk-container-id-2 div.sk-toggleable__content {max-height: 0;max-width: 0;overflow: hidden;text-align: left;background-color: #f0f8ff;}#sk-container-id-2 div.sk-toggleable__content pre {margin: 0.2em;color: black;border-radius: 0.25em;background-color: #f0f8ff;}#sk-container-id-2 input.sk-toggleable__control:checked~div.sk-toggleable__content {max-height: 200px;max-width: 100%;overflow: auto;}#sk-container-id-2 input.sk-toggleable__control:checked~label.sk-toggleable__label-arrow:before {content: \"▾\";}#sk-container-id-2 div.sk-estimator input.sk-toggleable__control:checked~label.sk-toggleable__label {background-color: #d4ebff;}#sk-container-id-2 div.sk-label input.sk-toggleable__control:checked~label.sk-toggleable__label {background-color: #d4ebff;}#sk-container-id-2 input.sk-hidden--visually {border: 0;clip: rect(1px 1px 1px 1px);clip: rect(1px, 1px, 1px, 1px);height: 1px;margin: -1px;overflow: hidden;padding: 0;position: absolute;width: 1px;}#sk-container-id-2 div.sk-estimator {font-family: monospace;background-color: #f0f8ff;border: 1px dotted black;border-radius: 0.25em;box-sizing: border-box;margin-bottom: 0.5em;}#sk-container-id-2 div.sk-estimator:hover {background-color: #d4ebff;}#sk-container-id-2 div.sk-parallel-item::after {content: \"\";width: 100%;border-bottom: 1px solid gray;flex-grow: 1;}#sk-container-id-2 div.sk-label:hover label.sk-toggleable__label {background-color: #d4ebff;}#sk-container-id-2 div.sk-serial::before {content: \"\";position: absolute;border-left: 1px solid gray;box-sizing: border-box;top: 0;bottom: 0;left: 50%;z-index: 0;}#sk-container-id-2 div.sk-serial {display: flex;flex-direction: column;align-items: center;background-color: white;padding-right: 0.2em;padding-left: 0.2em;position: relative;}#sk-container-id-2 div.sk-item {position: relative;z-index: 1;}#sk-container-id-2 div.sk-parallel {display: flex;align-items: stretch;justify-content: center;background-color: white;position: relative;}#sk-container-id-2 div.sk-item::before, #sk-container-id-2 div.sk-parallel-item::before {content: \"\";position: absolute;border-left: 1px solid gray;box-sizing: border-box;top: 0;bottom: 0;left: 50%;z-index: -1;}#sk-container-id-2 div.sk-parallel-item {display: flex;flex-direction: column;z-index: 1;position: relative;background-color: white;}#sk-container-id-2 div.sk-parallel-item:first-child::after {align-self: flex-end;width: 50%;}#sk-container-id-2 div.sk-parallel-item:last-child::after {align-self: flex-start;width: 50%;}#sk-container-id-2 div.sk-parallel-item:only-child::after {width: 0;}#sk-container-id-2 div.sk-dashed-wrapped {border: 1px dashed gray;margin: 0 0.4em 0.5em 0.4em;box-sizing: border-box;padding-bottom: 0.4em;background-color: white;}#sk-container-id-2 div.sk-label label {font-family: monospace;font-weight: bold;display: inline-block;line-height: 1.2em;}#sk-container-id-2 div.sk-label-container {text-align: center;}#sk-container-id-2 div.sk-container {/* jupyter's `normalize.less` sets `[hidden] { display: none; }` but bootstrap.min.css set `[hidden] { display: none !important; }` so we also need the `!important` here to be able to override the default hidden behavior on the sphinx rendered scikit-learn.org. See: https://github.com/scikit-learn/scikit-learn/issues/21755 */display: inline-block !important;position: relative;}#sk-container-id-2 div.sk-text-repr-fallback {display: none;}</style><div id=\"sk-container-id-2\" class=\"sk-top-container\"><div class=\"sk-text-repr-fallback\"><pre>KNeighborsClassifier()</pre><b>In a Jupyter environment, please rerun this cell to show the HTML representation or trust the notebook. <br />On GitHub, the HTML representation is unable to render, please try loading this page with nbviewer.org.</b></div><div class=\"sk-container\" hidden><div class=\"sk-item\"><div class=\"sk-estimator sk-toggleable\"><input class=\"sk-toggleable__control sk-hidden--visually\" id=\"sk-estimator-id-2\" type=\"checkbox\" checked><label for=\"sk-estimator-id-2\" class=\"sk-toggleable__label sk-toggleable__label-arrow\">KNeighborsClassifier</label><div class=\"sk-toggleable__content\"><pre>KNeighborsClassifier()</pre></div></div></div></div></div>"
            ]
          },
          "metadata": {},
          "execution_count": 148
        }
      ]
    },
    {
      "cell_type": "code",
      "metadata": {
        "id": "k86ld_YBcMVK"
      },
      "source": [
        "knn_clf.predict(dfs1[0]) # Indeed, 3 is not large (False) but it is odd (True)"
      ],
      "execution_count": null,
      "outputs": []
    },
    {
      "cell_type": "code",
      "metadata": {
        "colab": {
          "base_uri": "https://localhost:8080/"
        },
        "id": "zotYnallr5Jf",
        "outputId": "69d161ea-2fda-41f0-b01e-e00ab8a58453"
      },
      "source": [
        "y_train_knn_pred = cross_val_predict(knn_clf, df_band1, y_train, cv=3)\n",
        "f1_score(y_train, y_train_knn_pred, average=\"micro\")"
      ],
      "execution_count": null,
      "outputs": [
        {
          "output_type": "execute_result",
          "data": {
            "text/plain": [
              "0.5580608793686584"
            ]
          },
          "metadata": {},
          "execution_count": 158
        }
      ]
    },
    {
      "cell_type": "code",
      "source": [],
      "metadata": {
        "id": "vfu0Aq5-5iOX"
      },
      "execution_count": null,
      "outputs": []
    }
  ]
}